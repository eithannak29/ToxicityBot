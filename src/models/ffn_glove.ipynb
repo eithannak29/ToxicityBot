{
 "cells": [
  {
   "cell_type": "code",
   "execution_count": 1,
   "metadata": {},
   "outputs": [],
   "source": [
    "%load_ext autoreload\n",
    "%autoreload 2"
   ]
  },
  {
   "cell_type": "code",
   "execution_count": 2,
   "metadata": {},
   "outputs": [
    {
     "name": "stderr",
     "output_type": "stream",
     "text": [
      "/usr/lib/python3/dist-packages/scipy/__init__.py:146: UserWarning: A NumPy version >=1.17.3 and <1.25.0 is required for this version of SciPy (detected version 1.26.4\n",
      "  warnings.warn(f\"A NumPy version >={np_minversion} and <{np_maxversion}\"\n"
     ]
    }
   ],
   "source": [
    "import sys\n",
    "sys.path.append('..')\n",
    "from tqdm import tqdm\n",
    "import pandas as pd\n",
    "\n",
    "import numpy as np\n",
    "\n",
    "import torch\n",
    "import torch.nn as nn\n",
    "import torch.optim as optim\n",
    "from torch.utils.data import DataLoader, TensorDataset, Dataset\n",
    "\n",
    "import gensim.downloader\n",
    "\n",
    "from sklearn.metrics import classification_report\n",
    "\n",
    "from constants import CATEGORIES"
   ]
  },
  {
   "cell_type": "markdown",
   "metadata": {},
   "source": [
    "#### GPU Usage"
   ]
  },
  {
   "cell_type": "code",
   "execution_count": 3,
   "metadata": {},
   "outputs": [
    {
     "name": "stdout",
     "output_type": "stream",
     "text": [
      "Using device: cuda\n",
      "NVIDIA GeForce RTX 3070\n"
     ]
    }
   ],
   "source": [
    "device = torch.device('cuda' if torch.cuda.is_available() else 'cpu')\n",
    "print(f'Using device: {device}')\n",
    "print(torch.cuda.get_device_name(0))"
   ]
  },
  {
   "cell_type": "markdown",
   "metadata": {},
   "source": [
    "### Import Data"
   ]
  },
  {
   "cell_type": "code",
   "execution_count": 4,
   "metadata": {},
   "outputs": [],
   "source": [
    "df_train = pd.read_parquet('data/df_train_preprocessed.parquet')\n",
    "df_val = pd.read_parquet('data/df_val_preprocessed.parquet')\n",
    "df_test = pd.read_parquet('data/df_test_preprocessed.parquet')"
   ]
  },
  {
   "cell_type": "code",
   "execution_count": 5,
   "metadata": {},
   "outputs": [
    {
     "data": {
      "text/html": [
       "<div>\n",
       "<style scoped>\n",
       "    .dataframe tbody tr th:only-of-type {\n",
       "        vertical-align: middle;\n",
       "    }\n",
       "\n",
       "    .dataframe tbody tr th {\n",
       "        vertical-align: top;\n",
       "    }\n",
       "\n",
       "    .dataframe thead th {\n",
       "        text-align: right;\n",
       "    }\n",
       "</style>\n",
       "<table border=\"1\" class=\"dataframe\">\n",
       "  <thead>\n",
       "    <tr style=\"text-align: right;\">\n",
       "      <th></th>\n",
       "      <th>id</th>\n",
       "      <th>comment_text_baseline</th>\n",
       "      <th>toxic</th>\n",
       "      <th>severe_toxic</th>\n",
       "      <th>obscene</th>\n",
       "      <th>threat</th>\n",
       "      <th>insult</th>\n",
       "      <th>identity_hate</th>\n",
       "      <th>overall_toxic</th>\n",
       "      <th>comment_text_word_tokenize_no_normalization</th>\n",
       "      <th>comment_text_gpt_tokenize_no_normalization</th>\n",
       "      <th>comment_text_word_tokenize_normalization</th>\n",
       "      <th>comment_text_gpt_tokenize_normalization</th>\n",
       "      <th>comment_text_word_tokenize_full_normalization</th>\n",
       "      <th>comment_text_gpt_tokenize_full_normalization</th>\n",
       "      <th>comment_text_word_tokenize_simple_normalization</th>\n",
       "      <th>comment_text_gpt_tokenize_simple_normalization</th>\n",
       "    </tr>\n",
       "  </thead>\n",
       "  <tbody>\n",
       "    <tr>\n",
       "      <th>140030</th>\n",
       "      <td>ed56f082116dcbd0</td>\n",
       "      <td>Grandma Terri Should Burn in Trash \\nGrandma T...</td>\n",
       "      <td>1</td>\n",
       "      <td>0</td>\n",
       "      <td>0</td>\n",
       "      <td>0</td>\n",
       "      <td>0</td>\n",
       "      <td>0</td>\n",
       "      <td>1</td>\n",
       "      <td>Grandma Terri Should Burn in Trash Grandma Ter...</td>\n",
       "      <td>41251 1764 10335 462 12540 18530 304 71723 720...</td>\n",
       "      <td>grandma terri burn trash grandma terri trash ....</td>\n",
       "      <td>53766 1764 2024 462 8395 23701 83777 2024 462 ...</td>\n",
       "      <td>grandma terri burn trash grandma terri trash h...</td>\n",
       "      <td>53766 1764 2024 462 8395 23701 83777 2024 462 ...</td>\n",
       "      <td>grandma terri should burn in trash grandma ter...</td>\n",
       "      <td>53766 1764 2024 462 1288 8395 304 23701 720 53...</td>\n",
       "    </tr>\n",
       "    <tr>\n",
       "      <th>159124</th>\n",
       "      <td>f8e3cd98b63bf401</td>\n",
       "      <td>, 9 May 2009 (UTC)\\nIt would be easiest if you...</td>\n",
       "      <td>0</td>\n",
       "      <td>0</td>\n",
       "      <td>0</td>\n",
       "      <td>0</td>\n",
       "      <td>0</td>\n",
       "      <td>0</td>\n",
       "      <td>0</td>\n",
       "      <td>, 9 May 2009 ( UTC ) It would be easiest if yo...</td>\n",
       "      <td>11 220 24 3297 220 1049 24 320 21872 340 2181 ...</td>\n",
       "      <td>, may ( utc ) would easy admit member involved...</td>\n",
       "      <td>11 1253 320 70696 883 1053 4228 17113 4562 653...</td>\n",
       "      <td>may utc would easy admit member involved portu...</td>\n",
       "      <td>18864 70696 1053 4228 17113 4562 6532 2700 773...</td>\n",
       "      <td>, may ( utc ) it would be easiest if you were ...</td>\n",
       "      <td>11 220 1253 220 320 29455 340 275 1053 387 306...</td>\n",
       "    </tr>\n",
       "    <tr>\n",
       "      <th>60006</th>\n",
       "      <td>a09e1bcf10631f9a</td>\n",
       "      <td>\"\\n\\nThe Objectivity of this Discussion is dou...</td>\n",
       "      <td>0</td>\n",
       "      <td>0</td>\n",
       "      <td>0</td>\n",
       "      <td>0</td>\n",
       "      <td>0</td>\n",
       "      <td>0</td>\n",
       "      <td>0</td>\n",
       "      <td>`` The Objectivity of this Discussion is doubt...</td>\n",
       "      <td>1875 791 3075 1968 315 420 36613 374 75699 320...</td>\n",
       "      <td>`` objectivity discussion doubtful ( non-exist...</td>\n",
       "      <td>14196 1665 1968 10430 75699 320 2536 60928 883...</td>\n",
       "      <td>objectivity discussion doubtful nonexistent in...</td>\n",
       "      <td>1735 1968 10430 75699 88034 13519 6931 3857 36...</td>\n",
       "      <td>`` the objectivity of this discussion is doubt...</td>\n",
       "      <td>1875 1820 1665 1968 315 420 10430 374 75699 32...</td>\n",
       "    </tr>\n",
       "    <tr>\n",
       "      <th>65432</th>\n",
       "      <td>af0ee0066c607eb8</td>\n",
       "      <td>Shelly Shock\\nShelly Shock is. . .( )</td>\n",
       "      <td>0</td>\n",
       "      <td>0</td>\n",
       "      <td>0</td>\n",
       "      <td>0</td>\n",
       "      <td>0</td>\n",
       "      <td>0</td>\n",
       "      <td>0</td>\n",
       "      <td>Shelly Shock Shelly Shock is . . . ( )</td>\n",
       "      <td>2059 12160 48083 198 2059 12160 48083 374 13 6...</td>\n",
       "      <td>shelly shock shelly shock . . . ( )</td>\n",
       "      <td>939 12160 10988 559 12160 10988 662 662 662 32...</td>\n",
       "      <td>shelly shock shelly shock</td>\n",
       "      <td>939 12160 10988 559 12160 10988</td>\n",
       "      <td>shelly shock shelly shock is . . . ( )</td>\n",
       "      <td>939 12160 10988 198 939 12160 10988 374 13 662...</td>\n",
       "    </tr>\n",
       "    <tr>\n",
       "      <th>154979</th>\n",
       "      <td>b734772b1a807e09</td>\n",
       "      <td>I do not care. Refer to Ong Teng Cheong talk p...</td>\n",
       "      <td>0</td>\n",
       "      <td>0</td>\n",
       "      <td>0</td>\n",
       "      <td>0</td>\n",
       "      <td>0</td>\n",
       "      <td>0</td>\n",
       "      <td>0</td>\n",
       "      <td>I do not care . Refer to Ong Teng Cheong talk ...</td>\n",
       "      <td>40 656 539 2512 13 29734 311 507 983 350 833 8...</td>\n",
       "      <td>care . refer ong teng cheong talk page . la go...</td>\n",
       "      <td>10727 662 8464 389 70 42249 3091 647 3137 2199...</td>\n",
       "      <td>care refer ong teng cheong talk page la goutte...</td>\n",
       "      <td>10727 8464 389 70 42249 3091 647 3137 2199 120...</td>\n",
       "      <td>i do not care . refer to ong teng cheong talk ...</td>\n",
       "      <td>72 656 539 2512 13 8464 311 389 70 42249 3091 ...</td>\n",
       "    </tr>\n",
       "  </tbody>\n",
       "</table>\n",
       "</div>"
      ],
      "text/plain": [
       "                      id                              comment_text_baseline  \\\n",
       "140030  ed56f082116dcbd0  Grandma Terri Should Burn in Trash \\nGrandma T...   \n",
       "159124  f8e3cd98b63bf401  , 9 May 2009 (UTC)\\nIt would be easiest if you...   \n",
       "60006   a09e1bcf10631f9a  \"\\n\\nThe Objectivity of this Discussion is dou...   \n",
       "65432   af0ee0066c607eb8              Shelly Shock\\nShelly Shock is. . .( )   \n",
       "154979  b734772b1a807e09  I do not care. Refer to Ong Teng Cheong talk p...   \n",
       "\n",
       "        toxic  severe_toxic  obscene  threat  insult  identity_hate  \\\n",
       "140030      1             0        0       0       0              0   \n",
       "159124      0             0        0       0       0              0   \n",
       "60006       0             0        0       0       0              0   \n",
       "65432       0             0        0       0       0              0   \n",
       "154979      0             0        0       0       0              0   \n",
       "\n",
       "        overall_toxic        comment_text_word_tokenize_no_normalization  \\\n",
       "140030              1  Grandma Terri Should Burn in Trash Grandma Ter...   \n",
       "159124              0  , 9 May 2009 ( UTC ) It would be easiest if yo...   \n",
       "60006               0  `` The Objectivity of this Discussion is doubt...   \n",
       "65432               0             Shelly Shock Shelly Shock is . . . ( )   \n",
       "154979              0  I do not care . Refer to Ong Teng Cheong talk ...   \n",
       "\n",
       "               comment_text_gpt_tokenize_no_normalization  \\\n",
       "140030  41251 1764 10335 462 12540 18530 304 71723 720...   \n",
       "159124  11 220 24 3297 220 1049 24 320 21872 340 2181 ...   \n",
       "60006   1875 791 3075 1968 315 420 36613 374 75699 320...   \n",
       "65432   2059 12160 48083 198 2059 12160 48083 374 13 6...   \n",
       "154979  40 656 539 2512 13 29734 311 507 983 350 833 8...   \n",
       "\n",
       "                 comment_text_word_tokenize_normalization  \\\n",
       "140030  grandma terri burn trash grandma terri trash ....   \n",
       "159124  , may ( utc ) would easy admit member involved...   \n",
       "60006   `` objectivity discussion doubtful ( non-exist...   \n",
       "65432                 shelly shock shelly shock . . . ( )   \n",
       "154979  care . refer ong teng cheong talk page . la go...   \n",
       "\n",
       "                  comment_text_gpt_tokenize_normalization  \\\n",
       "140030  53766 1764 2024 462 8395 23701 83777 2024 462 ...   \n",
       "159124  11 1253 320 70696 883 1053 4228 17113 4562 653...   \n",
       "60006   14196 1665 1968 10430 75699 320 2536 60928 883...   \n",
       "65432   939 12160 10988 559 12160 10988 662 662 662 32...   \n",
       "154979  10727 662 8464 389 70 42249 3091 647 3137 2199...   \n",
       "\n",
       "            comment_text_word_tokenize_full_normalization  \\\n",
       "140030  grandma terri burn trash grandma terri trash h...   \n",
       "159124  may utc would easy admit member involved portu...   \n",
       "60006   objectivity discussion doubtful nonexistent in...   \n",
       "65432                           shelly shock shelly shock   \n",
       "154979  care refer ong teng cheong talk page la goutte...   \n",
       "\n",
       "             comment_text_gpt_tokenize_full_normalization  \\\n",
       "140030  53766 1764 2024 462 8395 23701 83777 2024 462 ...   \n",
       "159124  18864 70696 1053 4228 17113 4562 6532 2700 773...   \n",
       "60006   1735 1968 10430 75699 88034 13519 6931 3857 36...   \n",
       "65432                     939 12160 10988 559 12160 10988   \n",
       "154979  10727 8464 389 70 42249 3091 647 3137 2199 120...   \n",
       "\n",
       "          comment_text_word_tokenize_simple_normalization  \\\n",
       "140030  grandma terri should burn in trash grandma ter...   \n",
       "159124  , may ( utc ) it would be easiest if you were ...   \n",
       "60006   `` the objectivity of this discussion is doubt...   \n",
       "65432              shelly shock shelly shock is . . . ( )   \n",
       "154979  i do not care . refer to ong teng cheong talk ...   \n",
       "\n",
       "           comment_text_gpt_tokenize_simple_normalization  \n",
       "140030  53766 1764 2024 462 1288 8395 304 23701 720 53...  \n",
       "159124  11 220 1253 220 320 29455 340 275 1053 387 306...  \n",
       "60006   1875 1820 1665 1968 315 420 10430 374 75699 32...  \n",
       "65432   939 12160 10988 198 939 12160 10988 374 13 662...  \n",
       "154979  72 656 539 2512 13 8464 311 389 70 42249 3091 ...  "
      ]
     },
     "execution_count": 5,
     "metadata": {},
     "output_type": "execute_result"
    }
   ],
   "source": [
    "df_train.head()"
   ]
  },
  {
   "cell_type": "markdown",
   "metadata": {},
   "source": [
    "### Glove"
   ]
  },
  {
   "cell_type": "code",
   "execution_count": 6,
   "metadata": {},
   "outputs": [],
   "source": [
    "normalization_type = 'comment_text_word_tokenize_simple_normalization'"
   ]
  },
  {
   "cell_type": "code",
   "execution_count": 7,
   "metadata": {},
   "outputs": [
    {
     "name": "stdout",
     "output_type": "stream",
     "text": [
      "['fasttext-wiki-news-subwords-300', 'conceptnet-numberbatch-17-06-300', 'word2vec-ruscorpora-300', 'word2vec-google-news-300', 'glove-wiki-gigaword-50', 'glove-wiki-gigaword-100', 'glove-wiki-gigaword-200', 'glove-wiki-gigaword-300', 'glove-twitter-25', 'glove-twitter-50', 'glove-twitter-100', 'glove-twitter-200', '__testing_word2vec-matrix-synopsis']\n"
     ]
    }
   ],
   "source": [
    "print(list(gensim.downloader.info()['models'].keys()))\n",
    "glove_vectors = gensim.downloader.load('glove-twitter-200')\n"
   ]
  },
  {
   "cell_type": "code",
   "execution_count": 8,
   "metadata": {},
   "outputs": [],
   "source": [
    "def get_document_embedding_glove(text, model, vector_size):\n",
    "    words = text.split()\n",
    "    word_vectors = [model[word] for word in words if word in model]\n",
    "    if len(word_vectors) == 0:\n",
    "        return np.zeros(vector_size)\n",
    "    return np.mean(word_vectors, axis=0)"
   ]
  },
  {
   "cell_type": "code",
   "execution_count": 9,
   "metadata": {},
   "outputs": [],
   "source": [
    "class GloveTextDataset(Dataset):\n",
    "    def __init__(self, texts, labels, model, vector_size):\n",
    "        self.texts = texts\n",
    "        self.labels = labels\n",
    "        self.model = model\n",
    "        self.vector_size = vector_size\n",
    "\n",
    "    def __len__(self):\n",
    "        return len(self.texts)\n",
    "\n",
    "    def __getitem__(self, idx):\n",
    "        text = self.texts[idx]\n",
    "        label = self.labels[idx]\n",
    "        embedding = get_document_embedding_glove(text, self.model, self.vector_size)\n",
    "        embedding_tensor = torch.tensor(embedding, dtype=torch.float32)\n",
    "        label_tensor = torch.tensor(label, dtype=torch.float32)\n",
    "        return embedding_tensor, label_tensor\n",
    "\n",
    "def prepare_data_glove(df, normalization_type, batch_size=16, vector_size=200, model=None):\n",
    "    texts = df[normalization_type].values\n",
    "    labels = df[CATEGORIES].values\n",
    "    dataset = GloveTextDataset(texts, labels, model, vector_size)\n",
    "    loader = DataLoader(dataset, batch_size=batch_size, shuffle=True)\n",
    "    input_dim = vector_size\n",
    "    return loader, input_dim"
   ]
  },
  {
   "cell_type": "code",
   "execution_count": 10,
   "metadata": {},
   "outputs": [],
   "source": [
    "vector_size = 200 \n",
    "train_loader, input_dim = prepare_data_glove(df_train, normalization_type, batch_size=16, vector_size=vector_size, model=glove_vectors)\n",
    "val_loader, _ = prepare_data_glove(df_val, normalization_type, batch_size=16, vector_size=vector_size, model=glove_vectors)\n",
    "test_loader, _ = prepare_data_glove(df_test, normalization_type, batch_size=16, vector_size=vector_size, model=glove_vectors)"
   ]
  },
  {
   "cell_type": "markdown",
   "metadata": {},
   "source": [
    "#### Creation du modele"
   ]
  },
  {
   "cell_type": "code",
   "execution_count": 11,
   "metadata": {},
   "outputs": [],
   "source": [
    "class GloveNN(nn.Module):\n",
    "    def __init__(self, input_dim, hidden_dim, num_labels):\n",
    "        super(GloveNN, self).__init__()\n",
    "        self.fc1 = nn.Linear(input_dim, hidden_dim)\n",
    "        self.bn1 = nn.BatchNorm1d(hidden_dim)\n",
    "        self.fc_out = nn.Linear(hidden_dim, num_labels)\n",
    "\n",
    "    def forward(self, x):\n",
    "        x = self.fc1(x)\n",
    "        x = self.bn1(x)\n",
    "        x = torch.relu(x)\n",
    "        x = self.fc_out(x)\n",
    "        return x"
   ]
  },
  {
   "cell_type": "markdown",
   "metadata": {},
   "source": [
    "#### Initialisation du modèle"
   ]
  },
  {
   "cell_type": "code",
   "execution_count": 12,
   "metadata": {},
   "outputs": [
    {
     "name": "stderr",
     "output_type": "stream",
     "text": [
      "/home/eithannak/.local/lib/python3.10/site-packages/tqdm/auto.py:21: TqdmWarning: IProgress not found. Please update jupyter and ipywidgets. See https://ipywidgets.readthedocs.io/en/stable/user_install.html\n",
      "  from .autonotebook import tqdm as notebook_tqdm\n"
     ]
    }
   ],
   "source": [
    "hidden_dim = 64\n",
    "num_labels = len(CATEGORIES)\n",
    "\n",
    "model = GloveNN(input_dim, hidden_dim, num_labels).to(device)\n",
    "\n",
    "criterion = nn.BCEWithLogitsLoss()\n",
    "optimizer = optim.Adam(model.parameters(), lr=0.001)"
   ]
  },
  {
   "cell_type": "markdown",
   "metadata": {},
   "source": [
    "#### Entrainement"
   ]
  },
  {
   "cell_type": "code",
   "execution_count": 13,
   "metadata": {},
   "outputs": [
    {
     "name": "stderr",
     "output_type": "stream",
     "text": [
      "  0%|          | 0/7979 [00:00<?, ?it/s]"
     ]
    },
    {
     "name": "stderr",
     "output_type": "stream",
     "text": [
      "100%|██████████| 7979/7979 [00:35<00:00, 226.50it/s]\n",
      "100%|██████████| 1995/1995 [00:06<00:00, 317.61it/s]\n"
     ]
    },
    {
     "name": "stdout",
     "output_type": "stream",
     "text": [
      "Epoch 1/10, Train Loss: 0.0700, Val Loss: 0.0608\n"
     ]
    },
    {
     "name": "stderr",
     "output_type": "stream",
     "text": [
      "100%|██████████| 7979/7979 [00:33<00:00, 241.69it/s]\n",
      "100%|██████████| 1995/1995 [00:06<00:00, 317.85it/s]\n"
     ]
    },
    {
     "name": "stdout",
     "output_type": "stream",
     "text": [
      "Epoch 2/10, Train Loss: 0.0605, Val Loss: 0.0596\n"
     ]
    },
    {
     "name": "stderr",
     "output_type": "stream",
     "text": [
      "100%|██████████| 7979/7979 [00:34<00:00, 233.66it/s]\n",
      "100%|██████████| 1995/1995 [00:06<00:00, 308.59it/s]\n"
     ]
    },
    {
     "name": "stdout",
     "output_type": "stream",
     "text": [
      "Epoch 3/10, Train Loss: 0.0590, Val Loss: 0.0591\n"
     ]
    },
    {
     "name": "stderr",
     "output_type": "stream",
     "text": [
      "100%|██████████| 7979/7979 [00:35<00:00, 225.47it/s]\n",
      "100%|██████████| 1995/1995 [00:06<00:00, 293.28it/s]\n"
     ]
    },
    {
     "name": "stdout",
     "output_type": "stream",
     "text": [
      "Epoch 4/10, Train Loss: 0.0577, Val Loss: 0.0581\n"
     ]
    },
    {
     "name": "stderr",
     "output_type": "stream",
     "text": [
      "100%|██████████| 7979/7979 [01:01<00:00, 129.74it/s]\n",
      "100%|██████████| 1995/1995 [00:12<00:00, 155.03it/s]\n"
     ]
    },
    {
     "name": "stdout",
     "output_type": "stream",
     "text": [
      "Epoch 5/10, Train Loss: 0.0564, Val Loss: 0.0588\n"
     ]
    },
    {
     "name": "stderr",
     "output_type": "stream",
     "text": [
      "100%|██████████| 7979/7979 [01:14<00:00, 106.63it/s]\n",
      "100%|██████████| 1995/1995 [00:14<00:00, 135.72it/s]\n"
     ]
    },
    {
     "name": "stdout",
     "output_type": "stream",
     "text": [
      "Epoch 6/10, Train Loss: 0.0558, Val Loss: 0.0585\n"
     ]
    },
    {
     "name": "stderr",
     "output_type": "stream",
     "text": [
      "100%|██████████| 7979/7979 [01:08<00:00, 116.89it/s]\n",
      "100%|██████████| 1995/1995 [00:11<00:00, 173.59it/s]\n"
     ]
    },
    {
     "name": "stdout",
     "output_type": "stream",
     "text": [
      "Epoch 7/10, Train Loss: 0.0554, Val Loss: 0.0610\n"
     ]
    },
    {
     "name": "stderr",
     "output_type": "stream",
     "text": [
      "100%|██████████| 7979/7979 [01:06<00:00, 119.62it/s]\n",
      "100%|██████████| 1995/1995 [00:13<00:00, 142.67it/s]\n"
     ]
    },
    {
     "name": "stdout",
     "output_type": "stream",
     "text": [
      "Epoch 8/10, Train Loss: 0.0547, Val Loss: 0.0584\n"
     ]
    },
    {
     "name": "stderr",
     "output_type": "stream",
     "text": [
      "100%|██████████| 7979/7979 [01:04<00:00, 123.13it/s]\n",
      "100%|██████████| 1995/1995 [00:11<00:00, 168.27it/s]\n"
     ]
    },
    {
     "name": "stdout",
     "output_type": "stream",
     "text": [
      "Epoch 9/10, Train Loss: 0.0540, Val Loss: 0.0591\n"
     ]
    },
    {
     "name": "stderr",
     "output_type": "stream",
     "text": [
      "100%|██████████| 7979/7979 [01:03<00:00, 124.94it/s]\n",
      "100%|██████████| 1995/1995 [00:13<00:00, 146.29it/s]"
     ]
    },
    {
     "name": "stdout",
     "output_type": "stream",
     "text": [
      "Epoch 10/10, Train Loss: 0.0537, Val Loss: 0.0584\n"
     ]
    },
    {
     "name": "stderr",
     "output_type": "stream",
     "text": [
      "\n"
     ]
    }
   ],
   "source": [
    "def train_model(model, train_loader, val_loader, criterion, optimizer, num_epochs=10):\n",
    "    for epoch in range(num_epochs):\n",
    "        model.train()\n",
    "        train_loss = 0.0\n",
    "        for inputs, labels in tqdm(train_loader):\n",
    "            inputs, labels = inputs.to(device), labels.to(device)\n",
    "            optimizer.zero_grad()\n",
    "            outputs = model(inputs)\n",
    "            loss = criterion(outputs, labels)\n",
    "            loss.backward()\n",
    "            optimizer.step()\n",
    "            train_loss += loss.item() * inputs.size(0)\n",
    "        \n",
    "        train_loss = train_loss / len(train_loader.dataset)\n",
    "        \n",
    "        model.eval()\n",
    "        val_loss = 0.0\n",
    "        with torch.no_grad():\n",
    "            for inputs, labels in tqdm(val_loader):\n",
    "                inputs, labels = inputs.to(device), labels.to(device)\n",
    "                outputs = model(inputs)\n",
    "                loss = criterion(outputs, labels)\n",
    "                val_loss += loss.item() * inputs.size(0)\n",
    "        \n",
    "        val_loss = val_loss / len(val_loader.dataset)\n",
    "        \n",
    "        print(f'Epoch {epoch+1}/{num_epochs}, Train Loss: {train_loss:.4f}, Val Loss: {val_loss:.4f}')\n",
    "\n",
    "train_model(model, train_loader, val_loader, criterion, optimizer, num_epochs=10)"
   ]
  },
  {
   "cell_type": "markdown",
   "metadata": {},
   "source": [
    "#### Test du modele"
   ]
  },
  {
   "cell_type": "code",
   "execution_count": 15,
   "metadata": {},
   "outputs": [
    {
     "name": "stdout",
     "output_type": "stream",
     "text": [
      "               precision    recall  f1-score   support\n",
      "\n",
      "        toxic       0.63      0.63      0.63      6090\n",
      " severe_toxic       0.27      0.05      0.09       367\n",
      "      obscene       0.72      0.53      0.61      3691\n",
      "       threat       0.46      0.18      0.26       211\n",
      "       insult       0.69      0.48      0.57      3427\n",
      "identity_hate       0.58      0.23      0.33       712\n",
      "\n",
      "    micro avg       0.66      0.53      0.59     14498\n",
      "    macro avg       0.56      0.35      0.42     14498\n",
      " weighted avg       0.66      0.53      0.58     14498\n",
      "  samples avg       0.06      0.05      0.05     14498\n",
      "\n"
     ]
    },
    {
     "name": "stderr",
     "output_type": "stream",
     "text": [
      "/home/eithannak/.local/lib/python3.10/site-packages/sklearn/metrics/_classification.py:1509: UndefinedMetricWarning: Precision is ill-defined and being set to 0.0 in samples with no predicted labels. Use `zero_division` parameter to control this behavior.\n",
      "  _warn_prf(average, modifier, f\"{metric.capitalize()} is\", len(result))\n",
      "/home/eithannak/.local/lib/python3.10/site-packages/sklearn/metrics/_classification.py:1509: UndefinedMetricWarning: Recall is ill-defined and being set to 0.0 in samples with no true labels. Use `zero_division` parameter to control this behavior.\n",
      "  _warn_prf(average, modifier, f\"{metric.capitalize()} is\", len(result))\n",
      "/home/eithannak/.local/lib/python3.10/site-packages/sklearn/metrics/_classification.py:1509: UndefinedMetricWarning: F-score is ill-defined and being set to 0.0 in samples with no true nor predicted labels. Use `zero_division` parameter to control this behavior.\n",
      "  _warn_prf(average, modifier, f\"{metric.capitalize()} is\", len(result))\n"
     ]
    }
   ],
   "source": [
    "model.eval()\n",
    "\n",
    "y_pred = []\n",
    "y_true = []\n",
    "\n",
    "with torch.no_grad():\n",
    "    for inputs, targets in test_loader:\n",
    "        inputs, targets = inputs.to(device), targets.to(device)\n",
    "        outputs = model(inputs)\n",
    "        y_pred.extend(outputs.cpu().numpy())\n",
    "        y_true.extend(targets.cpu().numpy())\n",
    "          \n",
    "y_true = torch.tensor(y_true)\n",
    "y_pred = torch.tensor(y_pred) > 0.5 \n",
    "\n",
    "y_true = y_true.numpy()\n",
    "y_pred = y_pred.numpy()\n",
    "\n",
    "print(classification_report(y_true, y_pred, target_names=CATEGORIES))"
   ]
  }
 ],
 "metadata": {
  "kernelspec": {
   "display_name": "Python 3",
   "language": "python",
   "name": "python3"
  },
  "language_info": {
   "codemirror_mode": {
    "name": "ipython",
    "version": 3
   },
   "file_extension": ".py",
   "mimetype": "text/x-python",
   "name": "python",
   "nbconvert_exporter": "python",
   "pygments_lexer": "ipython3",
   "version": "3.10.12"
  }
 },
 "nbformat": 4,
 "nbformat_minor": 2
}
