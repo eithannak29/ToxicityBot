{
 "cells": [
  {
   "cell_type": "code",
   "execution_count": 90,
   "metadata": {},
   "outputs": [],
   "source": [
    "import sys\n",
    "sys.path.append('..')\n",
    "from tqdm import tqdm\n",
    "import numpy as np\n",
    "import pandas as pd\n",
    "import os\n",
    "\n",
    "import torch\n",
    "import torch.nn as nn\n",
    "import torch.optim as optim\n",
    "from torchtext.data.utils import get_tokenizer\n",
    "from torchtext.vocab import build_vocab_from_iterator\n",
    "from torch.nn.utils.rnn import pad_sequence\n",
    "from torch.utils.data import DataLoader, TensorDataset\n",
    "from torch.utils.data import Dataset, DataLoader\n",
    "\n",
    "from sklearn.metrics import classification_report\n",
    "\n",
    "from constants import CATEGORIES"
   ]
  },
  {
   "cell_type": "code",
   "execution_count": 75,
   "metadata": {},
   "outputs": [
    {
     "name": "stdout",
     "output_type": "stream",
     "text": [
      "Using device: cuda\n",
      "NVIDIA GeForce RTX 3070\n"
     ]
    }
   ],
   "source": [
    "device = torch.device('cuda' if torch.cuda.is_available() else 'cpu')\n",
    "print(f'Using device: {device}')\n",
    "print(torch.cuda.get_device_name(0))\n"
   ]
  },
  {
   "cell_type": "code",
   "execution_count": 76,
   "metadata": {},
   "outputs": [],
   "source": [
    "df_train = pd.read_parquet('data/df_train_preprocessed.parquet')\n",
    "df_val = pd.read_parquet('data/df_val_preprocessed.parquet')\n",
    "df_test = pd.read_parquet('data/df_test_preprocessed.parquet')"
   ]
  },
  {
   "cell_type": "code",
   "execution_count": 77,
   "metadata": {},
   "outputs": [
    {
     "data": {
      "text/html": [
       "<div>\n",
       "<style scoped>\n",
       "    .dataframe tbody tr th:only-of-type {\n",
       "        vertical-align: middle;\n",
       "    }\n",
       "\n",
       "    .dataframe tbody tr th {\n",
       "        vertical-align: top;\n",
       "    }\n",
       "\n",
       "    .dataframe thead th {\n",
       "        text-align: right;\n",
       "    }\n",
       "</style>\n",
       "<table border=\"1\" class=\"dataframe\">\n",
       "  <thead>\n",
       "    <tr style=\"text-align: right;\">\n",
       "      <th></th>\n",
       "      <th>id</th>\n",
       "      <th>comment_text_baseline</th>\n",
       "      <th>toxic</th>\n",
       "      <th>severe_toxic</th>\n",
       "      <th>obscene</th>\n",
       "      <th>threat</th>\n",
       "      <th>insult</th>\n",
       "      <th>identity_hate</th>\n",
       "      <th>overall_toxic</th>\n",
       "      <th>comment_text_word_tokenize_no_normalization</th>\n",
       "      <th>comment_text_gpt_tokenize_no_normalization</th>\n",
       "      <th>comment_text_word_tokenize_normalization</th>\n",
       "      <th>comment_text_gpt_tokenize_normalization</th>\n",
       "      <th>comment_text_word_tokenize_full_normalization</th>\n",
       "      <th>comment_text_gpt_tokenize_full_normalization</th>\n",
       "      <th>comment_text_word_tokenize_simple_normalization</th>\n",
       "      <th>comment_text_gpt_tokenize_simple_normalization</th>\n",
       "    </tr>\n",
       "  </thead>\n",
       "  <tbody>\n",
       "    <tr>\n",
       "      <th>140030</th>\n",
       "      <td>ed56f082116dcbd0</td>\n",
       "      <td>Grandma Terri Should Burn in Trash \\nGrandma T...</td>\n",
       "      <td>1</td>\n",
       "      <td>0</td>\n",
       "      <td>0</td>\n",
       "      <td>0</td>\n",
       "      <td>0</td>\n",
       "      <td>0</td>\n",
       "      <td>1</td>\n",
       "      <td>Grandma Terri Should Burn in Trash Grandma Ter...</td>\n",
       "      <td>41251 1764 10335 462 12540 18530 304 71723 720...</td>\n",
       "      <td>grandma terri burn trash grandma terri trash ....</td>\n",
       "      <td>53766 1764 2024 462 8395 23701 83777 2024 462 ...</td>\n",
       "      <td>grandma terri burn trash grandma terri trash h...</td>\n",
       "      <td>53766 1764 2024 462 8395 23701 83777 2024 462 ...</td>\n",
       "      <td>grandma terri should burn in trash grandma ter...</td>\n",
       "      <td>53766 1764 2024 462 1288 8395 304 23701 720 53...</td>\n",
       "    </tr>\n",
       "    <tr>\n",
       "      <th>159124</th>\n",
       "      <td>f8e3cd98b63bf401</td>\n",
       "      <td>, 9 May 2009 (UTC)\\nIt would be easiest if you...</td>\n",
       "      <td>0</td>\n",
       "      <td>0</td>\n",
       "      <td>0</td>\n",
       "      <td>0</td>\n",
       "      <td>0</td>\n",
       "      <td>0</td>\n",
       "      <td>0</td>\n",
       "      <td>, 9 May 2009 ( UTC ) It would be easiest if yo...</td>\n",
       "      <td>11 220 24 3297 220 1049 24 320 21872 340 2181 ...</td>\n",
       "      <td>, may ( utc ) would easy admit member involved...</td>\n",
       "      <td>11 1253 320 70696 883 1053 4228 17113 4562 653...</td>\n",
       "      <td>may utc would easy admit member involved portu...</td>\n",
       "      <td>18864 70696 1053 4228 17113 4562 6532 2700 773...</td>\n",
       "      <td>, may ( utc ) it would be easiest if you were ...</td>\n",
       "      <td>11 220 1253 220 320 29455 340 275 1053 387 306...</td>\n",
       "    </tr>\n",
       "    <tr>\n",
       "      <th>60006</th>\n",
       "      <td>a09e1bcf10631f9a</td>\n",
       "      <td>\"\\n\\nThe Objectivity of this Discussion is dou...</td>\n",
       "      <td>0</td>\n",
       "      <td>0</td>\n",
       "      <td>0</td>\n",
       "      <td>0</td>\n",
       "      <td>0</td>\n",
       "      <td>0</td>\n",
       "      <td>0</td>\n",
       "      <td>`` The Objectivity of this Discussion is doubt...</td>\n",
       "      <td>1875 791 3075 1968 315 420 36613 374 75699 320...</td>\n",
       "      <td>`` objectivity discussion doubtful ( non-exist...</td>\n",
       "      <td>14196 1665 1968 10430 75699 320 2536 60928 883...</td>\n",
       "      <td>objectivity discussion doubtful nonexistent in...</td>\n",
       "      <td>1735 1968 10430 75699 88034 13519 6931 3857 36...</td>\n",
       "      <td>`` the objectivity of this discussion is doubt...</td>\n",
       "      <td>1875 1820 1665 1968 315 420 10430 374 75699 32...</td>\n",
       "    </tr>\n",
       "    <tr>\n",
       "      <th>65432</th>\n",
       "      <td>af0ee0066c607eb8</td>\n",
       "      <td>Shelly Shock\\nShelly Shock is. . .( )</td>\n",
       "      <td>0</td>\n",
       "      <td>0</td>\n",
       "      <td>0</td>\n",
       "      <td>0</td>\n",
       "      <td>0</td>\n",
       "      <td>0</td>\n",
       "      <td>0</td>\n",
       "      <td>Shelly Shock Shelly Shock is . . . ( )</td>\n",
       "      <td>2059 12160 48083 198 2059 12160 48083 374 13 6...</td>\n",
       "      <td>shelly shock shelly shock . . . ( )</td>\n",
       "      <td>939 12160 10988 559 12160 10988 662 662 662 32...</td>\n",
       "      <td>shelly shock shelly shock</td>\n",
       "      <td>939 12160 10988 559 12160 10988</td>\n",
       "      <td>shelly shock shelly shock is . . . ( )</td>\n",
       "      <td>939 12160 10988 198 939 12160 10988 374 13 662...</td>\n",
       "    </tr>\n",
       "    <tr>\n",
       "      <th>154979</th>\n",
       "      <td>b734772b1a807e09</td>\n",
       "      <td>I do not care. Refer to Ong Teng Cheong talk p...</td>\n",
       "      <td>0</td>\n",
       "      <td>0</td>\n",
       "      <td>0</td>\n",
       "      <td>0</td>\n",
       "      <td>0</td>\n",
       "      <td>0</td>\n",
       "      <td>0</td>\n",
       "      <td>I do not care . Refer to Ong Teng Cheong talk ...</td>\n",
       "      <td>40 656 539 2512 13 29734 311 507 983 350 833 8...</td>\n",
       "      <td>care . refer ong teng cheong talk page . la go...</td>\n",
       "      <td>10727 662 8464 389 70 42249 3091 647 3137 2199...</td>\n",
       "      <td>care refer ong teng cheong talk page la goutte...</td>\n",
       "      <td>10727 8464 389 70 42249 3091 647 3137 2199 120...</td>\n",
       "      <td>i do not care . refer to ong teng cheong talk ...</td>\n",
       "      <td>72 656 539 2512 13 8464 311 389 70 42249 3091 ...</td>\n",
       "    </tr>\n",
       "  </tbody>\n",
       "</table>\n",
       "</div>"
      ],
      "text/plain": [
       "                      id                              comment_text_baseline  \\\n",
       "140030  ed56f082116dcbd0  Grandma Terri Should Burn in Trash \\nGrandma T...   \n",
       "159124  f8e3cd98b63bf401  , 9 May 2009 (UTC)\\nIt would be easiest if you...   \n",
       "60006   a09e1bcf10631f9a  \"\\n\\nThe Objectivity of this Discussion is dou...   \n",
       "65432   af0ee0066c607eb8              Shelly Shock\\nShelly Shock is. . .( )   \n",
       "154979  b734772b1a807e09  I do not care. Refer to Ong Teng Cheong talk p...   \n",
       "\n",
       "        toxic  severe_toxic  obscene  threat  insult  identity_hate  \\\n",
       "140030      1             0        0       0       0              0   \n",
       "159124      0             0        0       0       0              0   \n",
       "60006       0             0        0       0       0              0   \n",
       "65432       0             0        0       0       0              0   \n",
       "154979      0             0        0       0       0              0   \n",
       "\n",
       "        overall_toxic        comment_text_word_tokenize_no_normalization  \\\n",
       "140030              1  Grandma Terri Should Burn in Trash Grandma Ter...   \n",
       "159124              0  , 9 May 2009 ( UTC ) It would be easiest if yo...   \n",
       "60006               0  `` The Objectivity of this Discussion is doubt...   \n",
       "65432               0             Shelly Shock Shelly Shock is . . . ( )   \n",
       "154979              0  I do not care . Refer to Ong Teng Cheong talk ...   \n",
       "\n",
       "               comment_text_gpt_tokenize_no_normalization  \\\n",
       "140030  41251 1764 10335 462 12540 18530 304 71723 720...   \n",
       "159124  11 220 24 3297 220 1049 24 320 21872 340 2181 ...   \n",
       "60006   1875 791 3075 1968 315 420 36613 374 75699 320...   \n",
       "65432   2059 12160 48083 198 2059 12160 48083 374 13 6...   \n",
       "154979  40 656 539 2512 13 29734 311 507 983 350 833 8...   \n",
       "\n",
       "                 comment_text_word_tokenize_normalization  \\\n",
       "140030  grandma terri burn trash grandma terri trash ....   \n",
       "159124  , may ( utc ) would easy admit member involved...   \n",
       "60006   `` objectivity discussion doubtful ( non-exist...   \n",
       "65432                 shelly shock shelly shock . . . ( )   \n",
       "154979  care . refer ong teng cheong talk page . la go...   \n",
       "\n",
       "                  comment_text_gpt_tokenize_normalization  \\\n",
       "140030  53766 1764 2024 462 8395 23701 83777 2024 462 ...   \n",
       "159124  11 1253 320 70696 883 1053 4228 17113 4562 653...   \n",
       "60006   14196 1665 1968 10430 75699 320 2536 60928 883...   \n",
       "65432   939 12160 10988 559 12160 10988 662 662 662 32...   \n",
       "154979  10727 662 8464 389 70 42249 3091 647 3137 2199...   \n",
       "\n",
       "            comment_text_word_tokenize_full_normalization  \\\n",
       "140030  grandma terri burn trash grandma terri trash h...   \n",
       "159124  may utc would easy admit member involved portu...   \n",
       "60006   objectivity discussion doubtful nonexistent in...   \n",
       "65432                           shelly shock shelly shock   \n",
       "154979  care refer ong teng cheong talk page la goutte...   \n",
       "\n",
       "             comment_text_gpt_tokenize_full_normalization  \\\n",
       "140030  53766 1764 2024 462 8395 23701 83777 2024 462 ...   \n",
       "159124  18864 70696 1053 4228 17113 4562 6532 2700 773...   \n",
       "60006   1735 1968 10430 75699 88034 13519 6931 3857 36...   \n",
       "65432                     939 12160 10988 559 12160 10988   \n",
       "154979  10727 8464 389 70 42249 3091 647 3137 2199 120...   \n",
       "\n",
       "          comment_text_word_tokenize_simple_normalization  \\\n",
       "140030  grandma terri should burn in trash grandma ter...   \n",
       "159124  , may ( utc ) it would be easiest if you were ...   \n",
       "60006   `` the objectivity of this discussion is doubt...   \n",
       "65432              shelly shock shelly shock is . . . ( )   \n",
       "154979  i do not care . refer to ong teng cheong talk ...   \n",
       "\n",
       "           comment_text_gpt_tokenize_simple_normalization  \n",
       "140030  53766 1764 2024 462 1288 8395 304 23701 720 53...  \n",
       "159124  11 220 1253 220 320 29455 340 275 1053 387 306...  \n",
       "60006   1875 1820 1665 1968 315 420 10430 374 75699 32...  \n",
       "65432   939 12160 10988 198 939 12160 10988 374 13 662...  \n",
       "154979  72 656 539 2512 13 8464 311 389 70 42249 3091 ...  "
      ]
     },
     "execution_count": 77,
     "metadata": {},
     "output_type": "execute_result"
    }
   ],
   "source": [
    "df_train.head()"
   ]
  },
  {
   "cell_type": "code",
   "execution_count": 78,
   "metadata": {},
   "outputs": [
    {
     "name": "stdout",
     "output_type": "stream",
     "text": [
      "['glove.6B.200d.txt', 'glove.6B.300d.txt', 'glove.6B.100d.txt', 'glove.6B.50d.txt']\n"
     ]
    }
   ],
   "source": [
    "print(os.listdir('gloves'))\n",
    "normalization_type = 'comment_text_word_tokenize_full_normalization'\n",
    "glove_path = 'gloves/glove.6B.100d.txt'\n",
    "embedding_dim = 100"
   ]
  },
  {
   "cell_type": "code",
   "execution_count": 79,
   "metadata": {},
   "outputs": [],
   "source": [
    "# Fonction de préparation des données\n",
    "def prepare_data(df : pd.DataFrame, normalization_type : str, vocab : dict = None):\n",
    "    \n",
    "    texts = df[normalization_type].values\n",
    "    labels = df[CATEGORIES].values\n",
    "    \n",
    "    tokenizer = get_tokenizer(\"basic_english\")\n",
    "    \n",
    "    # Tokenisation des textes\n",
    "    tokenized_texts = [tokenizer(text) for text in texts]\n",
    "    \n",
    "    # Création du vocabulaire si non fourni\n",
    "    if vocab is None:\n",
    "        vocab = build_vocab_from_iterator(tokenized_texts, specials=[\"<pad>\"])\n",
    "        vocab.set_default_index(vocab[\"<pad>\"])\n",
    "    \n",
    "    # Conversion des textes tokenisés en séquences d'index\n",
    "    sequences = [torch.tensor(vocab(tokenized_text)) for tokenized_text in tokenized_texts]\n",
    "    \n",
    "    # Padding des séquences\n",
    "    padded_sequences = pad_sequence(sequences, batch_first=True, padding_value=vocab[\"<pad>\"])\n",
    "    \n",
    "    # Conversion des labels en tenseurs PyTorch\n",
    "    labels_tensor = torch.tensor(labels, dtype=torch.float)\n",
    "    \n",
    "    return padded_sequences, labels_tensor, vocab"
   ]
  },
  {
   "cell_type": "code",
   "execution_count": 80,
   "metadata": {},
   "outputs": [],
   "source": [
    "X_train, y_train, vocab = prepare_data(df_train, normalization_type)\n",
    "\n",
    "X_val, y_val, _ = prepare_data(df_val, normalization_type, vocab)\n",
    "\n",
    "X_test, y_test, _ = prepare_data(df_test, normalization_type, vocab)\n",
    "\n",
    "vocab_size = len(vocab)"
   ]
  },
  {
   "cell_type": "code",
   "execution_count": 81,
   "metadata": {},
   "outputs": [],
   "source": [
    "# Fonction pour charger les embeddings GloVe\n",
    "def load_glove_embeddings(glove_file : str) -> dict:\n",
    "    embeddings_index = {}\n",
    "    with open(glove_file, 'r', encoding='utf-8') as f:\n",
    "        for line in f:\n",
    "            values = line.split()\n",
    "            word = values[0]\n",
    "            coefs = np.asarray(values[1:], dtype='float32')\n",
    "            embeddings_index[word] = coefs\n",
    "    return embeddings_index\n",
    "\n",
    "# Fonction pour créer la matrice d'embeddings\n",
    "def create_embedding_matrix(vocab: dict, embeddings_index: dict, embedding_dim: int) -> torch.Tensor:\n",
    "    vocab_size = len(vocab)\n",
    "    embedding_matrix = np.zeros((vocab_size, embedding_dim))\n",
    "    for word, i in vocab.get_stoi().items():\n",
    "        embedding_vector = embeddings_index.get(word)\n",
    "        if embedding_vector is not None:\n",
    "            embedding_matrix[i] = embedding_vector\n",
    "        else:\n",
    "            embedding_matrix[i] = np.random.normal(scale=0.6, size=(embedding_dim,))\n",
    "    embedding_matrix = torch.tensor(embedding_matrix, dtype=torch.float)\n",
    "    return embedding_matrix"
   ]
  },
  {
   "cell_type": "code",
   "execution_count": 82,
   "metadata": {},
   "outputs": [],
   "source": [
    "embeddings_index = load_glove_embeddings(glove_path)\n",
    "embedding_matrix = create_embedding_matrix(vocab, embeddings_index, embedding_dim).to(device)"
   ]
  },
  {
   "cell_type": "code",
   "execution_count": 83,
   "metadata": {},
   "outputs": [],
   "source": [
    "embedding_layer = nn.Embedding.from_pretrained(embedding_matrix, freeze=False)\n",
    "\n",
    "class FeedforwardNN(nn.Module):\n",
    "    def __init__(self, vocab_size, embedding_dim, hidden_dim, output_dim):\n",
    "        super(FeedforwardNN, self).__init__()\n",
    "        self.embedding = embedding_layer\n",
    "        self.fc1 = nn.Linear(embedding_dim, hidden_dim)\n",
    "        self.relu = nn.ReLU()\n",
    "        self.fc2 = nn.Linear(hidden_dim, output_dim)\n",
    "        self.sigmoid = nn.Sigmoid()\n",
    "\n",
    "    def forward(self, x):\n",
    "        embedded = self.embedding(x).mean(dim=1)\n",
    "        out = self.fc1(embedded)\n",
    "        out = self.relu(out)\n",
    "        out = self.fc2(out)\n",
    "        out = self.sigmoid(out)\n",
    "        return out"
   ]
  },
  {
   "cell_type": "code",
   "execution_count": 84,
   "metadata": {},
   "outputs": [
    {
     "name": "stdout",
     "output_type": "stream",
     "text": [
      "FeedforwardNN(\n",
      "  (embedding): Embedding(179418, 100)\n",
      "  (fc1): Linear(in_features=100, out_features=128, bias=True)\n",
      "  (relu): ReLU()\n",
      "  (fc2): Linear(in_features=128, out_features=6, bias=True)\n",
      "  (sigmoid): Sigmoid()\n",
      ")\n"
     ]
    }
   ],
   "source": [
    "hidden_dim = 128\n",
    "output_dim = 6  \n",
    "\n",
    "model = FeedforwardNN(vocab_size=vocab_size, embedding_dim=embedding_dim, hidden_dim=hidden_dim, output_dim=output_dim)\n",
    "\n",
    "optimizer = optim.Adam(model.parameters(), lr=1e-3)\n",
    "criterion = nn.BCELoss() \n",
    "\n",
    "print(model)"
   ]
  },
  {
   "cell_type": "code",
   "execution_count": 91,
   "metadata": {},
   "outputs": [],
   "source": [
    "batch_size = 32\n",
    "\n",
    "train_dataset = TensorDataset(X_train, y_train)\n",
    "val_dataset = TensorDataset(X_val, y_val)\n",
    "test_dataset = TensorDataset(X_test, y_test)\n",
    "\n",
    "train_loader = DataLoader(train_dataset, batch_size=batch_size, shuffle=True)\n",
    "val_loader = DataLoader(val_dataset, batch_size=batch_size, shuffle=False)\n",
    "test_loader = DataLoader(test_dataset, batch_size=batch_size, shuffle=False)\n"
   ]
  },
  {
   "cell_type": "code",
   "execution_count": 97,
   "metadata": {},
   "outputs": [],
   "source": [
    "def train_model(model, train_loader, val_loader, criterion, optimizer, device, num_epochs=10):\n",
    "    model.to(device)\n",
    "    for epoch in range(num_epochs):\n",
    "        model.train()\n",
    "        running_loss = 0.0\n",
    "        for inputs, labels in tqdm(train_loader):\n",
    "            inputs, labels = inputs.to(device), labels.to(device)\n",
    "            optimizer.zero_grad()\n",
    "            outputs = model(inputs)\n",
    "            loss = criterion(outputs, labels)\n",
    "            loss.backward()\n",
    "            optimizer.step()\n",
    "            running_loss += loss.item() * inputs.size(0)\n",
    "        \n",
    "        epoch_loss = running_loss / len(train_loader.dataset)\n",
    "        print(f'Epoch {epoch+1}/{num_epochs}, Training Loss: {epoch_loss:.4f}')\n",
    "        \n",
    "        model.eval()\n",
    "        val_loss = 0.0\n",
    "        with torch.no_grad():\n",
    "            for inputs, labels in val_loader:\n",
    "                inputs, labels = inputs.to(device), labels.to(device)\n",
    "                outputs = model(inputs)\n",
    "                loss = criterion(outputs, labels)\n",
    "                val_loss += loss.item() * inputs.size(0)\n",
    "        \n",
    "        val_loss = val_loss / len(val_loader.dataset)\n",
    "        print(f'Epoch {epoch+1}/{num_epochs}, Validation Loss: {val_loss:.4f}')\n"
   ]
  },
  {
   "cell_type": "code",
   "execution_count": 98,
   "metadata": {},
   "outputs": [
    {
     "name": "stderr",
     "output_type": "stream",
     "text": [
      "100%|██████████| 3990/3990 [00:23<00:00, 170.81it/s]\n"
     ]
    },
    {
     "name": "stdout",
     "output_type": "stream",
     "text": [
      "Epoch 1/50, Training Loss: 0.0462\n",
      "Epoch 1/50, Validation Loss: 0.0722\n"
     ]
    },
    {
     "name": "stderr",
     "output_type": "stream",
     "text": [
      "100%|██████████| 3990/3990 [00:23<00:00, 172.77it/s]\n"
     ]
    },
    {
     "name": "stdout",
     "output_type": "stream",
     "text": [
      "Epoch 2/50, Training Loss: 0.0447\n",
      "Epoch 2/50, Validation Loss: 0.0659\n"
     ]
    },
    {
     "name": "stderr",
     "output_type": "stream",
     "text": [
      "100%|██████████| 3990/3990 [00:22<00:00, 173.84it/s]\n"
     ]
    },
    {
     "name": "stdout",
     "output_type": "stream",
     "text": [
      "Epoch 3/50, Training Loss: 0.0440\n",
      "Epoch 3/50, Validation Loss: 0.0748\n"
     ]
    },
    {
     "name": "stderr",
     "output_type": "stream",
     "text": [
      "100%|██████████| 3990/3990 [00:23<00:00, 173.05it/s]\n"
     ]
    },
    {
     "name": "stdout",
     "output_type": "stream",
     "text": [
      "Epoch 4/50, Training Loss: 0.0421\n",
      "Epoch 4/50, Validation Loss: 0.0688\n"
     ]
    },
    {
     "name": "stderr",
     "output_type": "stream",
     "text": [
      "100%|██████████| 3990/3990 [00:23<00:00, 172.39it/s]\n"
     ]
    },
    {
     "name": "stdout",
     "output_type": "stream",
     "text": [
      "Epoch 5/50, Training Loss: 0.0415\n",
      "Epoch 5/50, Validation Loss: 0.0706\n"
     ]
    },
    {
     "name": "stderr",
     "output_type": "stream",
     "text": [
      "100%|██████████| 3990/3990 [00:22<00:00, 173.88it/s]\n"
     ]
    },
    {
     "name": "stdout",
     "output_type": "stream",
     "text": [
      "Epoch 6/50, Training Loss: 0.0397\n",
      "Epoch 6/50, Validation Loss: 0.0700\n"
     ]
    },
    {
     "name": "stderr",
     "output_type": "stream",
     "text": [
      "100%|██████████| 3990/3990 [00:23<00:00, 172.99it/s]\n"
     ]
    },
    {
     "name": "stdout",
     "output_type": "stream",
     "text": [
      "Epoch 7/50, Training Loss: 0.0384\n",
      "Epoch 7/50, Validation Loss: 0.0729\n"
     ]
    },
    {
     "name": "stderr",
     "output_type": "stream",
     "text": [
      "100%|██████████| 3990/3990 [00:23<00:00, 172.92it/s]\n"
     ]
    },
    {
     "name": "stdout",
     "output_type": "stream",
     "text": [
      "Epoch 8/50, Training Loss: 0.0371\n",
      "Epoch 8/50, Validation Loss: 0.0750\n"
     ]
    },
    {
     "name": "stderr",
     "output_type": "stream",
     "text": [
      "100%|██████████| 3990/3990 [00:23<00:00, 173.02it/s]\n"
     ]
    },
    {
     "name": "stdout",
     "output_type": "stream",
     "text": [
      "Epoch 9/50, Training Loss: 0.0354\n",
      "Epoch 9/50, Validation Loss: 0.0783\n"
     ]
    },
    {
     "name": "stderr",
     "output_type": "stream",
     "text": [
      "100%|██████████| 3990/3990 [00:22<00:00, 173.85it/s]\n"
     ]
    },
    {
     "name": "stdout",
     "output_type": "stream",
     "text": [
      "Epoch 10/50, Training Loss: 0.0349\n",
      "Epoch 10/50, Validation Loss: 0.0784\n"
     ]
    },
    {
     "name": "stderr",
     "output_type": "stream",
     "text": [
      "100%|██████████| 3990/3990 [00:23<00:00, 172.51it/s]\n"
     ]
    },
    {
     "name": "stdout",
     "output_type": "stream",
     "text": [
      "Epoch 11/50, Training Loss: 0.0335\n",
      "Epoch 11/50, Validation Loss: 0.0932\n"
     ]
    },
    {
     "name": "stderr",
     "output_type": "stream",
     "text": [
      "100%|██████████| 3990/3990 [00:22<00:00, 173.91it/s]\n"
     ]
    },
    {
     "name": "stdout",
     "output_type": "stream",
     "text": [
      "Epoch 12/50, Training Loss: 0.0319\n",
      "Epoch 12/50, Validation Loss: 0.0858\n"
     ]
    },
    {
     "name": "stderr",
     "output_type": "stream",
     "text": [
      "100%|██████████| 3990/3990 [00:22<00:00, 174.00it/s]\n"
     ]
    },
    {
     "name": "stdout",
     "output_type": "stream",
     "text": [
      "Epoch 13/50, Training Loss: 0.0308\n",
      "Epoch 13/50, Validation Loss: 0.0921\n"
     ]
    },
    {
     "name": "stderr",
     "output_type": "stream",
     "text": [
      "100%|██████████| 3990/3990 [00:23<00:00, 173.34it/s]\n"
     ]
    },
    {
     "name": "stdout",
     "output_type": "stream",
     "text": [
      "Epoch 14/50, Training Loss: 0.0298\n",
      "Epoch 14/50, Validation Loss: 0.0883\n"
     ]
    },
    {
     "name": "stderr",
     "output_type": "stream",
     "text": [
      "100%|██████████| 3990/3990 [00:23<00:00, 172.45it/s]\n"
     ]
    },
    {
     "name": "stdout",
     "output_type": "stream",
     "text": [
      "Epoch 15/50, Training Loss: 0.0287\n",
      "Epoch 15/50, Validation Loss: 0.0876\n"
     ]
    },
    {
     "name": "stderr",
     "output_type": "stream",
     "text": [
      "100%|██████████| 3990/3990 [00:23<00:00, 172.82it/s]\n"
     ]
    },
    {
     "name": "stdout",
     "output_type": "stream",
     "text": [
      "Epoch 16/50, Training Loss: 0.0270\n",
      "Epoch 16/50, Validation Loss: 0.1015\n"
     ]
    },
    {
     "name": "stderr",
     "output_type": "stream",
     "text": [
      "100%|██████████| 3990/3990 [00:23<00:00, 173.32it/s]\n"
     ]
    },
    {
     "name": "stdout",
     "output_type": "stream",
     "text": [
      "Epoch 17/50, Training Loss: 0.0266\n",
      "Epoch 17/50, Validation Loss: 0.0963\n"
     ]
    },
    {
     "name": "stderr",
     "output_type": "stream",
     "text": [
      "100%|██████████| 3990/3990 [00:23<00:00, 173.34it/s]\n"
     ]
    },
    {
     "name": "stdout",
     "output_type": "stream",
     "text": [
      "Epoch 18/50, Training Loss: 0.0257\n",
      "Epoch 18/50, Validation Loss: 0.0996\n"
     ]
    },
    {
     "name": "stderr",
     "output_type": "stream",
     "text": [
      "100%|██████████| 3990/3990 [00:23<00:00, 172.67it/s]\n"
     ]
    },
    {
     "name": "stdout",
     "output_type": "stream",
     "text": [
      "Epoch 19/50, Training Loss: 0.0250\n",
      "Epoch 19/50, Validation Loss: 0.1059\n"
     ]
    },
    {
     "name": "stderr",
     "output_type": "stream",
     "text": [
      "100%|██████████| 3990/3990 [00:23<00:00, 173.46it/s]\n"
     ]
    },
    {
     "name": "stdout",
     "output_type": "stream",
     "text": [
      "Epoch 20/50, Training Loss: 0.0241\n",
      "Epoch 20/50, Validation Loss: 0.1075\n"
     ]
    },
    {
     "name": "stderr",
     "output_type": "stream",
     "text": [
      "100%|██████████| 3990/3990 [00:22<00:00, 173.99it/s]\n"
     ]
    },
    {
     "name": "stdout",
     "output_type": "stream",
     "text": [
      "Epoch 21/50, Training Loss: 0.0236\n",
      "Epoch 21/50, Validation Loss: 0.1102\n"
     ]
    },
    {
     "name": "stderr",
     "output_type": "stream",
     "text": [
      "100%|██████████| 3990/3990 [00:23<00:00, 172.92it/s]\n"
     ]
    },
    {
     "name": "stdout",
     "output_type": "stream",
     "text": [
      "Epoch 22/50, Training Loss: 0.0229\n",
      "Epoch 22/50, Validation Loss: 0.1061\n"
     ]
    },
    {
     "name": "stderr",
     "output_type": "stream",
     "text": [
      "100%|██████████| 3990/3990 [00:23<00:00, 173.32it/s]\n"
     ]
    },
    {
     "name": "stdout",
     "output_type": "stream",
     "text": [
      "Epoch 23/50, Training Loss: 0.0226\n",
      "Epoch 23/50, Validation Loss: 0.1129\n"
     ]
    },
    {
     "name": "stderr",
     "output_type": "stream",
     "text": [
      "100%|██████████| 3990/3990 [00:22<00:00, 174.31it/s]\n"
     ]
    },
    {
     "name": "stdout",
     "output_type": "stream",
     "text": [
      "Epoch 24/50, Training Loss: 0.0215\n",
      "Epoch 24/50, Validation Loss: 0.1121\n"
     ]
    },
    {
     "name": "stderr",
     "output_type": "stream",
     "text": [
      "100%|██████████| 3990/3990 [00:23<00:00, 172.17it/s]\n"
     ]
    },
    {
     "name": "stdout",
     "output_type": "stream",
     "text": [
      "Epoch 25/50, Training Loss: 0.0208\n",
      "Epoch 25/50, Validation Loss: 0.1091\n"
     ]
    },
    {
     "name": "stderr",
     "output_type": "stream",
     "text": [
      "100%|██████████| 3990/3990 [00:23<00:00, 172.50it/s]\n"
     ]
    },
    {
     "name": "stdout",
     "output_type": "stream",
     "text": [
      "Epoch 26/50, Training Loss: 0.0205\n",
      "Epoch 26/50, Validation Loss: 0.1239\n"
     ]
    },
    {
     "name": "stderr",
     "output_type": "stream",
     "text": [
      "100%|██████████| 3990/3990 [00:22<00:00, 174.19it/s]\n"
     ]
    },
    {
     "name": "stdout",
     "output_type": "stream",
     "text": [
      "Epoch 27/50, Training Loss: 0.0198\n",
      "Epoch 27/50, Validation Loss: 0.1235\n"
     ]
    },
    {
     "name": "stderr",
     "output_type": "stream",
     "text": [
      "100%|██████████| 3990/3990 [00:23<00:00, 167.73it/s]\n"
     ]
    },
    {
     "name": "stdout",
     "output_type": "stream",
     "text": [
      "Epoch 28/50, Training Loss: 0.0200\n",
      "Epoch 28/50, Validation Loss: 0.1222\n"
     ]
    },
    {
     "name": "stderr",
     "output_type": "stream",
     "text": [
      "100%|██████████| 3990/3990 [00:24<00:00, 163.52it/s]\n"
     ]
    },
    {
     "name": "stdout",
     "output_type": "stream",
     "text": [
      "Epoch 29/50, Training Loss: 0.0191\n",
      "Epoch 29/50, Validation Loss: 0.1312\n"
     ]
    },
    {
     "name": "stderr",
     "output_type": "stream",
     "text": [
      "100%|██████████| 3990/3990 [00:24<00:00, 163.13it/s]\n"
     ]
    },
    {
     "name": "stdout",
     "output_type": "stream",
     "text": [
      "Epoch 30/50, Training Loss: 0.0190\n",
      "Epoch 30/50, Validation Loss: 0.1305\n"
     ]
    },
    {
     "name": "stderr",
     "output_type": "stream",
     "text": [
      "100%|██████████| 3990/3990 [00:25<00:00, 159.37it/s]\n"
     ]
    },
    {
     "name": "stdout",
     "output_type": "stream",
     "text": [
      "Epoch 31/50, Training Loss: 0.0183\n",
      "Epoch 31/50, Validation Loss: 0.1244\n"
     ]
    },
    {
     "name": "stderr",
     "output_type": "stream",
     "text": [
      "100%|██████████| 3990/3990 [00:23<00:00, 172.49it/s]\n"
     ]
    },
    {
     "name": "stdout",
     "output_type": "stream",
     "text": [
      "Epoch 32/50, Training Loss: 0.0178\n",
      "Epoch 32/50, Validation Loss: 0.1315\n"
     ]
    },
    {
     "name": "stderr",
     "output_type": "stream",
     "text": [
      "100%|██████████| 3990/3990 [00:22<00:00, 174.02it/s]\n"
     ]
    },
    {
     "name": "stdout",
     "output_type": "stream",
     "text": [
      "Epoch 33/50, Training Loss: 0.0177\n",
      "Epoch 33/50, Validation Loss: 0.1326\n"
     ]
    },
    {
     "name": "stderr",
     "output_type": "stream",
     "text": [
      "100%|██████████| 3990/3990 [00:23<00:00, 173.19it/s]\n"
     ]
    },
    {
     "name": "stdout",
     "output_type": "stream",
     "text": [
      "Epoch 34/50, Training Loss: 0.0175\n",
      "Epoch 34/50, Validation Loss: 0.1390\n"
     ]
    },
    {
     "name": "stderr",
     "output_type": "stream",
     "text": [
      "100%|██████████| 3990/3990 [00:23<00:00, 167.81it/s]\n"
     ]
    },
    {
     "name": "stdout",
     "output_type": "stream",
     "text": [
      "Epoch 35/50, Training Loss: 0.0171\n",
      "Epoch 35/50, Validation Loss: 0.1296\n"
     ]
    },
    {
     "name": "stderr",
     "output_type": "stream",
     "text": [
      "100%|██████████| 3990/3990 [00:22<00:00, 173.66it/s]\n"
     ]
    },
    {
     "name": "stdout",
     "output_type": "stream",
     "text": [
      "Epoch 36/50, Training Loss: 0.0160\n",
      "Epoch 36/50, Validation Loss: 0.1390\n"
     ]
    },
    {
     "name": "stderr",
     "output_type": "stream",
     "text": [
      "100%|██████████| 3990/3990 [00:23<00:00, 168.28it/s]\n"
     ]
    },
    {
     "name": "stdout",
     "output_type": "stream",
     "text": [
      "Epoch 37/50, Training Loss: 0.0157\n",
      "Epoch 37/50, Validation Loss: 0.1480\n"
     ]
    },
    {
     "name": "stderr",
     "output_type": "stream",
     "text": [
      "100%|██████████| 3990/3990 [00:23<00:00, 171.82it/s]\n"
     ]
    },
    {
     "name": "stdout",
     "output_type": "stream",
     "text": [
      "Epoch 38/50, Training Loss: 0.0159\n",
      "Epoch 38/50, Validation Loss: 0.1459\n"
     ]
    },
    {
     "name": "stderr",
     "output_type": "stream",
     "text": [
      "100%|██████████| 3990/3990 [00:23<00:00, 172.73it/s]\n"
     ]
    },
    {
     "name": "stdout",
     "output_type": "stream",
     "text": [
      "Epoch 39/50, Training Loss: 0.0158\n",
      "Epoch 39/50, Validation Loss: 0.1370\n"
     ]
    },
    {
     "name": "stderr",
     "output_type": "stream",
     "text": [
      "100%|██████████| 3990/3990 [00:23<00:00, 172.83it/s]\n"
     ]
    },
    {
     "name": "stdout",
     "output_type": "stream",
     "text": [
      "Epoch 40/50, Training Loss: 0.0153\n",
      "Epoch 40/50, Validation Loss: 0.1469\n"
     ]
    },
    {
     "name": "stderr",
     "output_type": "stream",
     "text": [
      "100%|██████████| 3990/3990 [00:23<00:00, 169.33it/s]\n"
     ]
    },
    {
     "name": "stdout",
     "output_type": "stream",
     "text": [
      "Epoch 41/50, Training Loss: 0.0151\n",
      "Epoch 41/50, Validation Loss: 0.1451\n"
     ]
    },
    {
     "name": "stderr",
     "output_type": "stream",
     "text": [
      "100%|██████████| 3990/3990 [00:23<00:00, 171.66it/s]\n"
     ]
    },
    {
     "name": "stdout",
     "output_type": "stream",
     "text": [
      "Epoch 42/50, Training Loss: 0.0150\n",
      "Epoch 42/50, Validation Loss: 0.1448\n"
     ]
    },
    {
     "name": "stderr",
     "output_type": "stream",
     "text": [
      "100%|██████████| 3990/3990 [00:23<00:00, 170.31it/s]\n"
     ]
    },
    {
     "name": "stdout",
     "output_type": "stream",
     "text": [
      "Epoch 43/50, Training Loss: 0.0145\n",
      "Epoch 43/50, Validation Loss: 0.1519\n"
     ]
    },
    {
     "name": "stderr",
     "output_type": "stream",
     "text": [
      "100%|██████████| 3990/3990 [00:24<00:00, 163.12it/s]\n"
     ]
    },
    {
     "name": "stdout",
     "output_type": "stream",
     "text": [
      "Epoch 44/50, Training Loss: 0.0149\n",
      "Epoch 44/50, Validation Loss: 0.1498\n"
     ]
    },
    {
     "name": "stderr",
     "output_type": "stream",
     "text": [
      "100%|██████████| 3990/3990 [00:25<00:00, 157.63it/s]\n"
     ]
    },
    {
     "name": "stdout",
     "output_type": "stream",
     "text": [
      "Epoch 45/50, Training Loss: 0.0138\n",
      "Epoch 45/50, Validation Loss: 0.1420\n"
     ]
    },
    {
     "name": "stderr",
     "output_type": "stream",
     "text": [
      "100%|██████████| 3990/3990 [00:25<00:00, 158.87it/s]\n"
     ]
    },
    {
     "name": "stdout",
     "output_type": "stream",
     "text": [
      "Epoch 46/50, Training Loss: 0.0143\n",
      "Epoch 46/50, Validation Loss: 0.1802\n"
     ]
    },
    {
     "name": "stderr",
     "output_type": "stream",
     "text": [
      "100%|██████████| 3990/3990 [00:23<00:00, 171.19it/s]\n"
     ]
    },
    {
     "name": "stdout",
     "output_type": "stream",
     "text": [
      "Epoch 47/50, Training Loss: 0.0141\n",
      "Epoch 47/50, Validation Loss: 0.1651\n"
     ]
    },
    {
     "name": "stderr",
     "output_type": "stream",
     "text": [
      "100%|██████████| 3990/3990 [00:23<00:00, 171.33it/s]\n"
     ]
    },
    {
     "name": "stdout",
     "output_type": "stream",
     "text": [
      "Epoch 48/50, Training Loss: 0.0136\n",
      "Epoch 48/50, Validation Loss: 0.1601\n"
     ]
    },
    {
     "name": "stderr",
     "output_type": "stream",
     "text": [
      "100%|██████████| 3990/3990 [00:22<00:00, 176.33it/s]\n"
     ]
    },
    {
     "name": "stdout",
     "output_type": "stream",
     "text": [
      "Epoch 49/50, Training Loss: 0.0139\n",
      "Epoch 49/50, Validation Loss: 0.1602\n"
     ]
    },
    {
     "name": "stderr",
     "output_type": "stream",
     "text": [
      "100%|██████████| 3990/3990 [00:22<00:00, 178.66it/s]\n"
     ]
    },
    {
     "name": "stdout",
     "output_type": "stream",
     "text": [
      "Epoch 50/50, Training Loss: 0.0133\n",
      "Epoch 50/50, Validation Loss: 0.1640\n"
     ]
    }
   ],
   "source": [
    "train_model(model, train_loader, val_loader, criterion, optimizer, device, num_epochs=50)"
   ]
  },
  {
   "cell_type": "code",
   "execution_count": 113,
   "metadata": {},
   "outputs": [
    {
     "name": "stdout",
     "output_type": "stream",
     "text": [
      "               precision    recall  f1-score   support\n",
      "\n",
      "        toxic       0.85      0.63      0.73      3056\n",
      " severe_toxic       0.54      0.26      0.35       321\n",
      "      obscene       0.85      0.69      0.76      1715\n",
      "       threat       0.50      0.27      0.35        74\n",
      "       insult       0.70      0.64      0.67      1614\n",
      "identity_hate       0.46      0.45      0.46       294\n",
      "\n",
      "    micro avg       0.78      0.62      0.69      7074\n",
      "    macro avg       0.65      0.49      0.55      7074\n",
      " weighted avg       0.78      0.62      0.69      7074\n",
      "  samples avg       0.06      0.05      0.05      7074\n",
      "\n"
     ]
    },
    {
     "name": "stderr",
     "output_type": "stream",
     "text": [
      "/home/eithannak/.local/lib/python3.10/site-packages/sklearn/metrics/_classification.py:1509: UndefinedMetricWarning: Precision is ill-defined and being set to 0.0 in samples with no predicted labels. Use `zero_division` parameter to control this behavior.\n",
      "  _warn_prf(average, modifier, f\"{metric.capitalize()} is\", len(result))\n",
      "/home/eithannak/.local/lib/python3.10/site-packages/sklearn/metrics/_classification.py:1509: UndefinedMetricWarning: Recall is ill-defined and being set to 0.0 in samples with no true labels. Use `zero_division` parameter to control this behavior.\n",
      "  _warn_prf(average, modifier, f\"{metric.capitalize()} is\", len(result))\n",
      "/home/eithannak/.local/lib/python3.10/site-packages/sklearn/metrics/_classification.py:1509: UndefinedMetricWarning: F-score is ill-defined and being set to 0.0 in samples with no true nor predicted labels. Use `zero_division` parameter to control this behavior.\n",
      "  _warn_prf(average, modifier, f\"{metric.capitalize()} is\", len(result))\n"
     ]
    }
   ],
   "source": [
    "model.eval()\n",
    "\n",
    "y_pred = []\n",
    "y_true = []\n",
    "\n",
    "with torch.no_grad():\n",
    "    for inputs, targets in val_loader:\n",
    "        inputs, targets = inputs.to(device), targets.to(device)  # Move to GPU\n",
    "        outputs = model(inputs)\n",
    "        y_pred.extend(outputs.cpu().numpy())  # Move to CPU before converting to numpy\n",
    "        y_true.extend(targets.cpu().numpy())  # Move to CPU before converting to numpy\n",
    "\n",
    "y_true = torch.tensor(y_true)\n",
    "y_pred = torch.tensor(y_pred) > 0.5 # Convert probabilities to binary labels\n",
    "\n",
    "y_true = y_true.numpy()\n",
    "y_pred = y_pred.numpy()\n",
    "\n",
    "print(classification_report(y_true, y_pred, target_names=CATEGORIES))\n"
   ]
  },
  {
   "cell_type": "code",
   "execution_count": 125,
   "metadata": {},
   "outputs": [
    {
     "name": "stdout",
     "output_type": "stream",
     "text": [
      "Output: tensor([0, 0, 0, 0, 0, 0], device='cuda:0')\n",
      "Target: tensor([0., 0., 0., 0., 0., 0.], device='cuda:0')\n",
      "tensor([True, True, True, True, True, True], device='cuda:0')\n",
      "\n",
      "Output: tensor([0, 0, 0, 0, 0, 0], device='cuda:0')\n",
      "Target: tensor([0., 0., 0., 0., 0., 0.], device='cuda:0')\n",
      "tensor([True, True, True, True, True, True], device='cuda:0')\n",
      "\n",
      "Output: tensor([0, 0, 0, 0, 0, 0], device='cuda:0')\n",
      "Target: tensor([0., 0., 0., 0., 0., 0.], device='cuda:0')\n",
      "tensor([True, True, True, True, True, True], device='cuda:0')\n",
      "\n",
      "Output: tensor([0, 0, 0, 0, 0, 0], device='cuda:0')\n",
      "Target: tensor([0., 0., 0., 0., 0., 0.], device='cuda:0')\n",
      "tensor([True, True, True, True, True, True], device='cuda:0')\n",
      "\n",
      "Output: tensor([0, 0, 0, 0, 0, 0], device='cuda:0')\n",
      "Target: tensor([0., 0., 0., 0., 0., 0.], device='cuda:0')\n",
      "tensor([True, True, True, True, True, True], device='cuda:0')\n",
      "\n",
      "Output: tensor([0, 0, 0, 0, 0, 0], device='cuda:0')\n",
      "Target: tensor([0., 0., 0., 0., 0., 0.], device='cuda:0')\n",
      "tensor([True, True, True, True, True, True], device='cuda:0')\n",
      "\n",
      "Output: tensor([0, 0, 0, 0, 0, 0], device='cuda:0')\n",
      "Target: tensor([0., 0., 0., 0., 0., 0.], device='cuda:0')\n",
      "tensor([True, True, True, True, True, True], device='cuda:0')\n",
      "\n",
      "Output: tensor([1, 0, 1, 0, 1, 0], device='cuda:0')\n",
      "Target: tensor([1., 0., 1., 0., 1., 0.], device='cuda:0')\n",
      "tensor([True, True, True, True, True, True], device='cuda:0')\n",
      "\n",
      "Output: tensor([0, 0, 0, 0, 0, 0], device='cuda:0')\n",
      "Target: tensor([0., 0., 0., 0., 0., 0.], device='cuda:0')\n",
      "tensor([True, True, True, True, True, True], device='cuda:0')\n",
      "\n",
      "Output: tensor([0, 0, 0, 0, 0, 0], device='cuda:0')\n",
      "Target: tensor([0., 0., 0., 0., 0., 0.], device='cuda:0')\n",
      "tensor([True, True, True, True, True, True], device='cuda:0')\n",
      "\n",
      "Output: tensor([0, 0, 0, 0, 0, 0], device='cuda:0')\n",
      "Target: tensor([0., 0., 0., 0., 0., 0.], device='cuda:0')\n",
      "tensor([True, True, True, True, True, True], device='cuda:0')\n",
      "\n",
      "Output: tensor([0, 0, 0, 0, 0, 0], device='cuda:0')\n",
      "Target: tensor([0., 0., 0., 0., 0., 0.], device='cuda:0')\n",
      "tensor([True, True, True, True, True, True], device='cuda:0')\n",
      "\n",
      "Output: tensor([0, 0, 0, 0, 0, 0], device='cuda:0')\n",
      "Target: tensor([0., 0., 0., 0., 0., 0.], device='cuda:0')\n",
      "tensor([True, True, True, True, True, True], device='cuda:0')\n",
      "\n",
      "Output: tensor([0, 0, 0, 0, 0, 0], device='cuda:0')\n",
      "Target: tensor([0., 0., 0., 0., 0., 0.], device='cuda:0')\n",
      "tensor([True, True, True, True, True, True], device='cuda:0')\n",
      "\n",
      "Output: tensor([0, 0, 0, 0, 0, 0], device='cuda:0')\n",
      "Target: tensor([0., 0., 0., 0., 0., 0.], device='cuda:0')\n",
      "tensor([True, True, True, True, True, True], device='cuda:0')\n",
      "\n",
      "Output: tensor([0, 0, 0, 0, 0, 0], device='cuda:0')\n",
      "Target: tensor([0., 0., 0., 0., 0., 0.], device='cuda:0')\n",
      "tensor([True, True, True, True, True, True], device='cuda:0')\n",
      "\n",
      "Output: tensor([1, 0, 0, 0, 1, 1], device='cuda:0')\n",
      "Target: tensor([1., 0., 1., 0., 1., 1.], device='cuda:0')\n",
      "tensor([ True,  True, False,  True,  True,  True], device='cuda:0')\n",
      "\n",
      "Output: tensor([0, 0, 0, 0, 0, 0], device='cuda:0')\n",
      "Target: tensor([0., 0., 0., 0., 0., 0.], device='cuda:0')\n",
      "tensor([True, True, True, True, True, True], device='cuda:0')\n",
      "\n",
      "Output: tensor([0, 0, 0, 0, 0, 0], device='cuda:0')\n",
      "Target: tensor([0., 0., 0., 0., 0., 0.], device='cuda:0')\n",
      "tensor([True, True, True, True, True, True], device='cuda:0')\n",
      "\n",
      "Output: tensor([1, 0, 0, 0, 0, 1], device='cuda:0')\n",
      "Target: tensor([1., 0., 0., 0., 1., 1.], device='cuda:0')\n",
      "tensor([ True,  True,  True,  True, False,  True], device='cuda:0')\n",
      "\n"
     ]
    }
   ],
   "source": [
    "model.eval()\n",
    "\n",
    "for i, (inputs, targets) in enumerate(test_loader):\n",
    "    if i == 20:\n",
    "        break\n",
    "    inputs, targets = inputs.to(device), targets.to(device)\n",
    "    outputs = model(inputs)\n",
    "    outputs = torch.where(outputs > 0.5, 1, 0)\n",
    "    print(f'Output: {outputs[0]}')\n",
    "    print(f'Target: {targets[0]}')\n",
    "    print(outputs[0] == targets[0])\n",
    "    print('')\n",
    "    "
   ]
  },
  {
   "cell_type": "code",
   "execution_count": null,
   "metadata": {},
   "outputs": [],
   "source": []
  }
 ],
 "metadata": {
  "kernelspec": {
   "display_name": "nlp_project",
   "language": "python",
   "name": "python3"
  },
  "language_info": {
   "codemirror_mode": {
    "name": "ipython",
    "version": 3
   },
   "file_extension": ".py",
   "mimetype": "text/x-python",
   "name": "python",
   "nbconvert_exporter": "python",
   "pygments_lexer": "ipython3",
   "version": "3.10.12"
  }
 },
 "nbformat": 4,
 "nbformat_minor": 2
}
