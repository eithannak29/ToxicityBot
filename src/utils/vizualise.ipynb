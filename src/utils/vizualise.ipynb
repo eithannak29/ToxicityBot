{
 "cells": [
  {
   "cell_type": "code",
   "execution_count": 20,
   "metadata": {},
   "outputs": [],
   "source": [
    "import plotly.express as px\n",
    "import seaborn as sns\n",
    "import pandas as pd\n",
    "import matplotlib.pyplot as plt\n",
    "\n",
    "import sys\n",
    "sys.path.append('..')\n",
    "\n",
    "from preprocessing import load_dataframes\n",
    "\n",
    "from constants import CATEGORIES"
   ]
  },
  {
   "cell_type": "code",
   "execution_count": 9,
   "metadata": {},
   "outputs": [],
   "source": [
    "(df_train, df_val, df_test) = load_dataframes()"
   ]
  },
  {
   "cell_type": "code",
   "execution_count": 11,
   "metadata": {},
   "outputs": [
    {
     "data": {
      "text/html": [
       "<div>\n",
       "<style scoped>\n",
       "    .dataframe tbody tr th:only-of-type {\n",
       "        vertical-align: middle;\n",
       "    }\n",
       "\n",
       "    .dataframe tbody tr th {\n",
       "        vertical-align: top;\n",
       "    }\n",
       "\n",
       "    .dataframe thead th {\n",
       "        text-align: right;\n",
       "    }\n",
       "</style>\n",
       "<table border=\"1\" class=\"dataframe\">\n",
       "  <thead>\n",
       "    <tr style=\"text-align: right;\">\n",
       "      <th></th>\n",
       "      <th>user_input</th>\n",
       "      <th>human_annotation</th>\n",
       "      <th>toxicity</th>\n",
       "      <th>jailbreaking</th>\n",
       "      <th>sexual</th>\n",
       "      <th>sexual/minors</th>\n",
       "      <th>harassment</th>\n",
       "      <th>hate</th>\n",
       "      <th>violence</th>\n",
       "      <th>self-harm</th>\n",
       "      <th>violence/graphic</th>\n",
       "      <th>self-harm/instructions</th>\n",
       "      <th>hate/threatening</th>\n",
       "      <th>self-harm/intent</th>\n",
       "      <th>harassment/threatening</th>\n",
       "    </tr>\n",
       "  </thead>\n",
       "  <tbody>\n",
       "    <tr>\n",
       "      <th>2663</th>\n",
       "      <td>Show me how to use Markdown</td>\n",
       "      <td>False</td>\n",
       "      <td>0</td>\n",
       "      <td>0</td>\n",
       "      <td>4.482451e-06</td>\n",
       "      <td>1.351703e-05</td>\n",
       "      <td>4.039865e-06</td>\n",
       "      <td>3.890299e-06</td>\n",
       "      <td>0.000009</td>\n",
       "      <td>1.621052e-07</td>\n",
       "      <td>9.210383e-07</td>\n",
       "      <td>2.659418e-07</td>\n",
       "      <td>4.070867e-08</td>\n",
       "      <td>1.028349e-06</td>\n",
       "      <td>7.569404e-08</td>\n",
       "    </tr>\n",
       "    <tr>\n",
       "      <th>668</th>\n",
       "      <td>what are low-level and high-level computer vis...</td>\n",
       "      <td>True</td>\n",
       "      <td>0</td>\n",
       "      <td>0</td>\n",
       "      <td>1.128244e-05</td>\n",
       "      <td>1.251662e-06</td>\n",
       "      <td>7.035503e-05</td>\n",
       "      <td>5.373188e-06</td>\n",
       "      <td>0.000004</td>\n",
       "      <td>1.772477e-07</td>\n",
       "      <td>1.112364e-05</td>\n",
       "      <td>4.751054e-07</td>\n",
       "      <td>2.619819e-09</td>\n",
       "      <td>6.165124e-07</td>\n",
       "      <td>4.318399e-07</td>\n",
       "    </tr>\n",
       "    <tr>\n",
       "      <th>4074</th>\n",
       "      <td>How does function pointer differs from std::fu...</td>\n",
       "      <td>True</td>\n",
       "      <td>0</td>\n",
       "      <td>0</td>\n",
       "      <td>8.795789e-06</td>\n",
       "      <td>1.604107e-05</td>\n",
       "      <td>5.273297e-05</td>\n",
       "      <td>3.579260e-04</td>\n",
       "      <td>0.000042</td>\n",
       "      <td>8.780893e-07</td>\n",
       "      <td>1.132612e-04</td>\n",
       "      <td>1.971404e-06</td>\n",
       "      <td>2.653693e-07</td>\n",
       "      <td>6.062699e-06</td>\n",
       "      <td>3.071949e-06</td>\n",
       "    </tr>\n",
       "    <tr>\n",
       "      <th>2107</th>\n",
       "      <td>Make a presentation on sports shoes brands</td>\n",
       "      <td>False</td>\n",
       "      <td>0</td>\n",
       "      <td>0</td>\n",
       "      <td>5.881552e-07</td>\n",
       "      <td>4.106710e-08</td>\n",
       "      <td>3.683886e-08</td>\n",
       "      <td>1.733184e-07</td>\n",
       "      <td>0.000011</td>\n",
       "      <td>3.371065e-08</td>\n",
       "      <td>3.577605e-06</td>\n",
       "      <td>5.500145e-07</td>\n",
       "      <td>3.214344e-08</td>\n",
       "      <td>2.808356e-07</td>\n",
       "      <td>1.462816e-07</td>\n",
       "    </tr>\n",
       "    <tr>\n",
       "      <th>4992</th>\n",
       "      <td>Hi!  Can you help reserarch whether developing...</td>\n",
       "      <td>True</td>\n",
       "      <td>0</td>\n",
       "      <td>0</td>\n",
       "      <td>1.459526e-05</td>\n",
       "      <td>1.055144e-05</td>\n",
       "      <td>9.710726e-05</td>\n",
       "      <td>5.070407e-06</td>\n",
       "      <td>0.000083</td>\n",
       "      <td>3.000870e-06</td>\n",
       "      <td>5.954613e-05</td>\n",
       "      <td>3.119930e-05</td>\n",
       "      <td>7.221962e-08</td>\n",
       "      <td>1.732054e-05</td>\n",
       "      <td>1.135630e-05</td>\n",
       "    </tr>\n",
       "  </tbody>\n",
       "</table>\n",
       "</div>"
      ],
      "text/plain": [
       "                                             user_input  human_annotation  \\\n",
       "2663                        Show me how to use Markdown             False   \n",
       "668   what are low-level and high-level computer vis...              True   \n",
       "4074  How does function pointer differs from std::fu...              True   \n",
       "2107         Make a presentation on sports shoes brands             False   \n",
       "4992  Hi!  Can you help reserarch whether developing...              True   \n",
       "\n",
       "      toxicity  jailbreaking        sexual  sexual/minors    harassment  \\\n",
       "2663         0             0  4.482451e-06   1.351703e-05  4.039865e-06   \n",
       "668          0             0  1.128244e-05   1.251662e-06  7.035503e-05   \n",
       "4074         0             0  8.795789e-06   1.604107e-05  5.273297e-05   \n",
       "2107         0             0  5.881552e-07   4.106710e-08  3.683886e-08   \n",
       "4992         0             0  1.459526e-05   1.055144e-05  9.710726e-05   \n",
       "\n",
       "              hate  violence     self-harm  violence/graphic  \\\n",
       "2663  3.890299e-06  0.000009  1.621052e-07      9.210383e-07   \n",
       "668   5.373188e-06  0.000004  1.772477e-07      1.112364e-05   \n",
       "4074  3.579260e-04  0.000042  8.780893e-07      1.132612e-04   \n",
       "2107  1.733184e-07  0.000011  3.371065e-08      3.577605e-06   \n",
       "4992  5.070407e-06  0.000083  3.000870e-06      5.954613e-05   \n",
       "\n",
       "      self-harm/instructions  hate/threatening  self-harm/intent  \\\n",
       "2663            2.659418e-07      4.070867e-08      1.028349e-06   \n",
       "668             4.751054e-07      2.619819e-09      6.165124e-07   \n",
       "4074            1.971404e-06      2.653693e-07      6.062699e-06   \n",
       "2107            5.500145e-07      3.214344e-08      2.808356e-07   \n",
       "4992            3.119930e-05      7.221962e-08      1.732054e-05   \n",
       "\n",
       "      harassment/threatening  \n",
       "2663            7.569404e-08  \n",
       "668             4.318399e-07  \n",
       "4074            3.071949e-06  \n",
       "2107            1.462816e-07  \n",
       "4992            1.135630e-05  "
      ]
     },
     "execution_count": 11,
     "metadata": {},
     "output_type": "execute_result"
    }
   ],
   "source": [
    "df_train.head()"
   ]
  },
  {
   "cell_type": "code",
   "execution_count": 12,
   "metadata": {},
   "outputs": [
    {
     "data": {
      "text/html": [
       "<div>\n",
       "<style scoped>\n",
       "    .dataframe tbody tr th:only-of-type {\n",
       "        vertical-align: middle;\n",
       "    }\n",
       "\n",
       "    .dataframe tbody tr th {\n",
       "        vertical-align: top;\n",
       "    }\n",
       "\n",
       "    .dataframe thead th {\n",
       "        text-align: right;\n",
       "    }\n",
       "</style>\n",
       "<table border=\"1\" class=\"dataframe\">\n",
       "  <thead>\n",
       "    <tr style=\"text-align: right;\">\n",
       "      <th></th>\n",
       "      <th>toxicity</th>\n",
       "      <th>jailbreaking</th>\n",
       "      <th>sexual</th>\n",
       "      <th>sexual/minors</th>\n",
       "      <th>harassment</th>\n",
       "      <th>hate</th>\n",
       "      <th>violence</th>\n",
       "      <th>self-harm</th>\n",
       "      <th>violence/graphic</th>\n",
       "      <th>self-harm/instructions</th>\n",
       "      <th>hate/threatening</th>\n",
       "      <th>self-harm/intent</th>\n",
       "      <th>harassment/threatening</th>\n",
       "    </tr>\n",
       "  </thead>\n",
       "  <tbody>\n",
       "    <tr>\n",
       "      <th>count</th>\n",
       "      <td>4065.000000</td>\n",
       "      <td>4065.000000</td>\n",
       "      <td>4.065000e+03</td>\n",
       "      <td>4.065000e+03</td>\n",
       "      <td>4.065000e+03</td>\n",
       "      <td>4.065000e+03</td>\n",
       "      <td>4.065000e+03</td>\n",
       "      <td>4.065000e+03</td>\n",
       "      <td>4.065000e+03</td>\n",
       "      <td>4.065000e+03</td>\n",
       "      <td>4.065000e+03</td>\n",
       "      <td>4.065000e+03</td>\n",
       "      <td>4.065000e+03</td>\n",
       "    </tr>\n",
       "    <tr>\n",
       "      <th>mean</th>\n",
       "      <td>0.074785</td>\n",
       "      <td>0.022632</td>\n",
       "      <td>1.364642e-02</td>\n",
       "      <td>3.283167e-03</td>\n",
       "      <td>4.111174e-03</td>\n",
       "      <td>1.276146e-03</td>\n",
       "      <td>4.640569e-03</td>\n",
       "      <td>9.782252e-04</td>\n",
       "      <td>7.604308e-04</td>\n",
       "      <td>1.666456e-04</td>\n",
       "      <td>3.642481e-05</td>\n",
       "      <td>5.077806e-04</td>\n",
       "      <td>2.042577e-04</td>\n",
       "    </tr>\n",
       "    <tr>\n",
       "      <th>std</th>\n",
       "      <td>0.263076</td>\n",
       "      <td>0.148746</td>\n",
       "      <td>8.295946e-02</td>\n",
       "      <td>4.657266e-02</td>\n",
       "      <td>3.845744e-02</td>\n",
       "      <td>1.662486e-02</td>\n",
       "      <td>4.306115e-02</td>\n",
       "      <td>2.302883e-02</td>\n",
       "      <td>1.531055e-02</td>\n",
       "      <td>5.166412e-03</td>\n",
       "      <td>8.468394e-04</td>\n",
       "      <td>1.110830e-02</td>\n",
       "      <td>3.244529e-03</td>\n",
       "    </tr>\n",
       "    <tr>\n",
       "      <th>min</th>\n",
       "      <td>0.000000</td>\n",
       "      <td>0.000000</td>\n",
       "      <td>2.816865e-09</td>\n",
       "      <td>1.501600e-09</td>\n",
       "      <td>6.499357e-09</td>\n",
       "      <td>1.839147e-09</td>\n",
       "      <td>6.077502e-08</td>\n",
       "      <td>2.511460e-11</td>\n",
       "      <td>6.719019e-10</td>\n",
       "      <td>1.130226e-11</td>\n",
       "      <td>2.448679e-13</td>\n",
       "      <td>3.609864e-12</td>\n",
       "      <td>7.114236e-10</td>\n",
       "    </tr>\n",
       "    <tr>\n",
       "      <th>25%</th>\n",
       "      <td>0.000000</td>\n",
       "      <td>0.000000</td>\n",
       "      <td>9.688979e-06</td>\n",
       "      <td>1.544278e-06</td>\n",
       "      <td>6.436232e-06</td>\n",
       "      <td>3.083787e-06</td>\n",
       "      <td>1.376666e-05</td>\n",
       "      <td>2.798104e-07</td>\n",
       "      <td>3.313775e-06</td>\n",
       "      <td>1.013795e-07</td>\n",
       "      <td>2.875604e-08</td>\n",
       "      <td>1.813058e-07</td>\n",
       "      <td>4.662530e-07</td>\n",
       "    </tr>\n",
       "    <tr>\n",
       "      <th>50%</th>\n",
       "      <td>0.000000</td>\n",
       "      <td>0.000000</td>\n",
       "      <td>4.204773e-05</td>\n",
       "      <td>7.576699e-06</td>\n",
       "      <td>3.673673e-05</td>\n",
       "      <td>1.603305e-05</td>\n",
       "      <td>5.722671e-05</td>\n",
       "      <td>1.548711e-06</td>\n",
       "      <td>1.411260e-05</td>\n",
       "      <td>7.189232e-07</td>\n",
       "      <td>2.009371e-07</td>\n",
       "      <td>1.292194e-06</td>\n",
       "      <td>2.184210e-06</td>\n",
       "    </tr>\n",
       "    <tr>\n",
       "      <th>75%</th>\n",
       "      <td>0.000000</td>\n",
       "      <td>0.000000</td>\n",
       "      <td>1.974239e-04</td>\n",
       "      <td>3.936796e-05</td>\n",
       "      <td>2.212946e-04</td>\n",
       "      <td>8.885466e-05</td>\n",
       "      <td>2.465883e-04</td>\n",
       "      <td>1.004503e-05</td>\n",
       "      <td>6.058342e-05</td>\n",
       "      <td>5.264485e-06</td>\n",
       "      <td>1.422142e-06</td>\n",
       "      <td>9.691160e-06</td>\n",
       "      <td>1.302478e-05</td>\n",
       "    </tr>\n",
       "    <tr>\n",
       "      <th>max</th>\n",
       "      <td>1.000000</td>\n",
       "      <td>1.000000</td>\n",
       "      <td>9.995223e-01</td>\n",
       "      <td>9.964316e-01</td>\n",
       "      <td>9.472954e-01</td>\n",
       "      <td>6.136618e-01</td>\n",
       "      <td>9.575315e-01</td>\n",
       "      <td>8.756633e-01</td>\n",
       "      <td>7.616420e-01</td>\n",
       "      <td>2.849816e-01</td>\n",
       "      <td>4.761030e-02</td>\n",
       "      <td>3.833209e-01</td>\n",
       "      <td>1.350671e-01</td>\n",
       "    </tr>\n",
       "  </tbody>\n",
       "</table>\n",
       "</div>"
      ],
      "text/plain": [
       "          toxicity  jailbreaking        sexual  sexual/minors    harassment  \\\n",
       "count  4065.000000   4065.000000  4.065000e+03   4.065000e+03  4.065000e+03   \n",
       "mean      0.074785      0.022632  1.364642e-02   3.283167e-03  4.111174e-03   \n",
       "std       0.263076      0.148746  8.295946e-02   4.657266e-02  3.845744e-02   \n",
       "min       0.000000      0.000000  2.816865e-09   1.501600e-09  6.499357e-09   \n",
       "25%       0.000000      0.000000  9.688979e-06   1.544278e-06  6.436232e-06   \n",
       "50%       0.000000      0.000000  4.204773e-05   7.576699e-06  3.673673e-05   \n",
       "75%       0.000000      0.000000  1.974239e-04   3.936796e-05  2.212946e-04   \n",
       "max       1.000000      1.000000  9.995223e-01   9.964316e-01  9.472954e-01   \n",
       "\n",
       "               hate      violence     self-harm  violence/graphic  \\\n",
       "count  4.065000e+03  4.065000e+03  4.065000e+03      4.065000e+03   \n",
       "mean   1.276146e-03  4.640569e-03  9.782252e-04      7.604308e-04   \n",
       "std    1.662486e-02  4.306115e-02  2.302883e-02      1.531055e-02   \n",
       "min    1.839147e-09  6.077502e-08  2.511460e-11      6.719019e-10   \n",
       "25%    3.083787e-06  1.376666e-05  2.798104e-07      3.313775e-06   \n",
       "50%    1.603305e-05  5.722671e-05  1.548711e-06      1.411260e-05   \n",
       "75%    8.885466e-05  2.465883e-04  1.004503e-05      6.058342e-05   \n",
       "max    6.136618e-01  9.575315e-01  8.756633e-01      7.616420e-01   \n",
       "\n",
       "       self-harm/instructions  hate/threatening  self-harm/intent  \\\n",
       "count            4.065000e+03      4.065000e+03      4.065000e+03   \n",
       "mean             1.666456e-04      3.642481e-05      5.077806e-04   \n",
       "std              5.166412e-03      8.468394e-04      1.110830e-02   \n",
       "min              1.130226e-11      2.448679e-13      3.609864e-12   \n",
       "25%              1.013795e-07      2.875604e-08      1.813058e-07   \n",
       "50%              7.189232e-07      2.009371e-07      1.292194e-06   \n",
       "75%              5.264485e-06      1.422142e-06      9.691160e-06   \n",
       "max              2.849816e-01      4.761030e-02      3.833209e-01   \n",
       "\n",
       "       harassment/threatening  \n",
       "count            4.065000e+03  \n",
       "mean             2.042577e-04  \n",
       "std              3.244529e-03  \n",
       "min              7.114236e-10  \n",
       "25%              4.662530e-07  \n",
       "50%              2.184210e-06  \n",
       "75%              1.302478e-05  \n",
       "max              1.350671e-01  "
      ]
     },
     "execution_count": 12,
     "metadata": {},
     "output_type": "execute_result"
    }
   ],
   "source": [
    "df_train.describe()"
   ]
  },
  {
   "cell_type": "code",
   "execution_count": 17,
   "metadata": {},
   "outputs": [
    {
     "data": {
      "application/vnd.plotly.v1+json": {
       "config": {
        "plotlyServerURL": "https://plot.ly"
       },
       "data": [
        {
         "domain": {
          "x": [
           0,
           1
          ],
          "y": [
           0,
           1
          ]
         },
         "hovertemplate": "label=%{label}<br>value=%{value}<extra></extra>",
         "labels": [
          "toxic",
          "non toxic"
         ],
         "legendgroup": "",
         "name": "",
         "showlegend": true,
         "type": "pie",
         "values": [
          304,
          3761
         ]
        }
       ],
       "layout": {
        "legend": {
         "tracegroupgap": 0
        },
        "template": {
         "data": {
          "bar": [
           {
            "error_x": {
             "color": "#2a3f5f"
            },
            "error_y": {
             "color": "#2a3f5f"
            },
            "marker": {
             "line": {
              "color": "#E5ECF6",
              "width": 0.5
             },
             "pattern": {
              "fillmode": "overlay",
              "size": 10,
              "solidity": 0.2
             }
            },
            "type": "bar"
           }
          ],
          "barpolar": [
           {
            "marker": {
             "line": {
              "color": "#E5ECF6",
              "width": 0.5
             },
             "pattern": {
              "fillmode": "overlay",
              "size": 10,
              "solidity": 0.2
             }
            },
            "type": "barpolar"
           }
          ],
          "carpet": [
           {
            "aaxis": {
             "endlinecolor": "#2a3f5f",
             "gridcolor": "white",
             "linecolor": "white",
             "minorgridcolor": "white",
             "startlinecolor": "#2a3f5f"
            },
            "baxis": {
             "endlinecolor": "#2a3f5f",
             "gridcolor": "white",
             "linecolor": "white",
             "minorgridcolor": "white",
             "startlinecolor": "#2a3f5f"
            },
            "type": "carpet"
           }
          ],
          "choropleth": [
           {
            "colorbar": {
             "outlinewidth": 0,
             "ticks": ""
            },
            "type": "choropleth"
           }
          ],
          "contour": [
           {
            "colorbar": {
             "outlinewidth": 0,
             "ticks": ""
            },
            "colorscale": [
             [
              0,
              "#0d0887"
             ],
             [
              0.1111111111111111,
              "#46039f"
             ],
             [
              0.2222222222222222,
              "#7201a8"
             ],
             [
              0.3333333333333333,
              "#9c179e"
             ],
             [
              0.4444444444444444,
              "#bd3786"
             ],
             [
              0.5555555555555556,
              "#d8576b"
             ],
             [
              0.6666666666666666,
              "#ed7953"
             ],
             [
              0.7777777777777778,
              "#fb9f3a"
             ],
             [
              0.8888888888888888,
              "#fdca26"
             ],
             [
              1,
              "#f0f921"
             ]
            ],
            "type": "contour"
           }
          ],
          "contourcarpet": [
           {
            "colorbar": {
             "outlinewidth": 0,
             "ticks": ""
            },
            "type": "contourcarpet"
           }
          ],
          "heatmap": [
           {
            "colorbar": {
             "outlinewidth": 0,
             "ticks": ""
            },
            "colorscale": [
             [
              0,
              "#0d0887"
             ],
             [
              0.1111111111111111,
              "#46039f"
             ],
             [
              0.2222222222222222,
              "#7201a8"
             ],
             [
              0.3333333333333333,
              "#9c179e"
             ],
             [
              0.4444444444444444,
              "#bd3786"
             ],
             [
              0.5555555555555556,
              "#d8576b"
             ],
             [
              0.6666666666666666,
              "#ed7953"
             ],
             [
              0.7777777777777778,
              "#fb9f3a"
             ],
             [
              0.8888888888888888,
              "#fdca26"
             ],
             [
              1,
              "#f0f921"
             ]
            ],
            "type": "heatmap"
           }
          ],
          "heatmapgl": [
           {
            "colorbar": {
             "outlinewidth": 0,
             "ticks": ""
            },
            "colorscale": [
             [
              0,
              "#0d0887"
             ],
             [
              0.1111111111111111,
              "#46039f"
             ],
             [
              0.2222222222222222,
              "#7201a8"
             ],
             [
              0.3333333333333333,
              "#9c179e"
             ],
             [
              0.4444444444444444,
              "#bd3786"
             ],
             [
              0.5555555555555556,
              "#d8576b"
             ],
             [
              0.6666666666666666,
              "#ed7953"
             ],
             [
              0.7777777777777778,
              "#fb9f3a"
             ],
             [
              0.8888888888888888,
              "#fdca26"
             ],
             [
              1,
              "#f0f921"
             ]
            ],
            "type": "heatmapgl"
           }
          ],
          "histogram": [
           {
            "marker": {
             "pattern": {
              "fillmode": "overlay",
              "size": 10,
              "solidity": 0.2
             }
            },
            "type": "histogram"
           }
          ],
          "histogram2d": [
           {
            "colorbar": {
             "outlinewidth": 0,
             "ticks": ""
            },
            "colorscale": [
             [
              0,
              "#0d0887"
             ],
             [
              0.1111111111111111,
              "#46039f"
             ],
             [
              0.2222222222222222,
              "#7201a8"
             ],
             [
              0.3333333333333333,
              "#9c179e"
             ],
             [
              0.4444444444444444,
              "#bd3786"
             ],
             [
              0.5555555555555556,
              "#d8576b"
             ],
             [
              0.6666666666666666,
              "#ed7953"
             ],
             [
              0.7777777777777778,
              "#fb9f3a"
             ],
             [
              0.8888888888888888,
              "#fdca26"
             ],
             [
              1,
              "#f0f921"
             ]
            ],
            "type": "histogram2d"
           }
          ],
          "histogram2dcontour": [
           {
            "colorbar": {
             "outlinewidth": 0,
             "ticks": ""
            },
            "colorscale": [
             [
              0,
              "#0d0887"
             ],
             [
              0.1111111111111111,
              "#46039f"
             ],
             [
              0.2222222222222222,
              "#7201a8"
             ],
             [
              0.3333333333333333,
              "#9c179e"
             ],
             [
              0.4444444444444444,
              "#bd3786"
             ],
             [
              0.5555555555555556,
              "#d8576b"
             ],
             [
              0.6666666666666666,
              "#ed7953"
             ],
             [
              0.7777777777777778,
              "#fb9f3a"
             ],
             [
              0.8888888888888888,
              "#fdca26"
             ],
             [
              1,
              "#f0f921"
             ]
            ],
            "type": "histogram2dcontour"
           }
          ],
          "mesh3d": [
           {
            "colorbar": {
             "outlinewidth": 0,
             "ticks": ""
            },
            "type": "mesh3d"
           }
          ],
          "parcoords": [
           {
            "line": {
             "colorbar": {
              "outlinewidth": 0,
              "ticks": ""
             }
            },
            "type": "parcoords"
           }
          ],
          "pie": [
           {
            "automargin": true,
            "type": "pie"
           }
          ],
          "scatter": [
           {
            "fillpattern": {
             "fillmode": "overlay",
             "size": 10,
             "solidity": 0.2
            },
            "type": "scatter"
           }
          ],
          "scatter3d": [
           {
            "line": {
             "colorbar": {
              "outlinewidth": 0,
              "ticks": ""
             }
            },
            "marker": {
             "colorbar": {
              "outlinewidth": 0,
              "ticks": ""
             }
            },
            "type": "scatter3d"
           }
          ],
          "scattercarpet": [
           {
            "marker": {
             "colorbar": {
              "outlinewidth": 0,
              "ticks": ""
             }
            },
            "type": "scattercarpet"
           }
          ],
          "scattergeo": [
           {
            "marker": {
             "colorbar": {
              "outlinewidth": 0,
              "ticks": ""
             }
            },
            "type": "scattergeo"
           }
          ],
          "scattergl": [
           {
            "marker": {
             "colorbar": {
              "outlinewidth": 0,
              "ticks": ""
             }
            },
            "type": "scattergl"
           }
          ],
          "scattermapbox": [
           {
            "marker": {
             "colorbar": {
              "outlinewidth": 0,
              "ticks": ""
             }
            },
            "type": "scattermapbox"
           }
          ],
          "scatterpolar": [
           {
            "marker": {
             "colorbar": {
              "outlinewidth": 0,
              "ticks": ""
             }
            },
            "type": "scatterpolar"
           }
          ],
          "scatterpolargl": [
           {
            "marker": {
             "colorbar": {
              "outlinewidth": 0,
              "ticks": ""
             }
            },
            "type": "scatterpolargl"
           }
          ],
          "scatterternary": [
           {
            "marker": {
             "colorbar": {
              "outlinewidth": 0,
              "ticks": ""
             }
            },
            "type": "scatterternary"
           }
          ],
          "surface": [
           {
            "colorbar": {
             "outlinewidth": 0,
             "ticks": ""
            },
            "colorscale": [
             [
              0,
              "#0d0887"
             ],
             [
              0.1111111111111111,
              "#46039f"
             ],
             [
              0.2222222222222222,
              "#7201a8"
             ],
             [
              0.3333333333333333,
              "#9c179e"
             ],
             [
              0.4444444444444444,
              "#bd3786"
             ],
             [
              0.5555555555555556,
              "#d8576b"
             ],
             [
              0.6666666666666666,
              "#ed7953"
             ],
             [
              0.7777777777777778,
              "#fb9f3a"
             ],
             [
              0.8888888888888888,
              "#fdca26"
             ],
             [
              1,
              "#f0f921"
             ]
            ],
            "type": "surface"
           }
          ],
          "table": [
           {
            "cells": {
             "fill": {
              "color": "#EBF0F8"
             },
             "line": {
              "color": "white"
             }
            },
            "header": {
             "fill": {
              "color": "#C8D4E3"
             },
             "line": {
              "color": "white"
             }
            },
            "type": "table"
           }
          ]
         },
         "layout": {
          "annotationdefaults": {
           "arrowcolor": "#2a3f5f",
           "arrowhead": 0,
           "arrowwidth": 1
          },
          "autotypenumbers": "strict",
          "coloraxis": {
           "colorbar": {
            "outlinewidth": 0,
            "ticks": ""
           }
          },
          "colorscale": {
           "diverging": [
            [
             0,
             "#8e0152"
            ],
            [
             0.1,
             "#c51b7d"
            ],
            [
             0.2,
             "#de77ae"
            ],
            [
             0.3,
             "#f1b6da"
            ],
            [
             0.4,
             "#fde0ef"
            ],
            [
             0.5,
             "#f7f7f7"
            ],
            [
             0.6,
             "#e6f5d0"
            ],
            [
             0.7,
             "#b8e186"
            ],
            [
             0.8,
             "#7fbc41"
            ],
            [
             0.9,
             "#4d9221"
            ],
            [
             1,
             "#276419"
            ]
           ],
           "sequential": [
            [
             0,
             "#0d0887"
            ],
            [
             0.1111111111111111,
             "#46039f"
            ],
            [
             0.2222222222222222,
             "#7201a8"
            ],
            [
             0.3333333333333333,
             "#9c179e"
            ],
            [
             0.4444444444444444,
             "#bd3786"
            ],
            [
             0.5555555555555556,
             "#d8576b"
            ],
            [
             0.6666666666666666,
             "#ed7953"
            ],
            [
             0.7777777777777778,
             "#fb9f3a"
            ],
            [
             0.8888888888888888,
             "#fdca26"
            ],
            [
             1,
             "#f0f921"
            ]
           ],
           "sequentialminus": [
            [
             0,
             "#0d0887"
            ],
            [
             0.1111111111111111,
             "#46039f"
            ],
            [
             0.2222222222222222,
             "#7201a8"
            ],
            [
             0.3333333333333333,
             "#9c179e"
            ],
            [
             0.4444444444444444,
             "#bd3786"
            ],
            [
             0.5555555555555556,
             "#d8576b"
            ],
            [
             0.6666666666666666,
             "#ed7953"
            ],
            [
             0.7777777777777778,
             "#fb9f3a"
            ],
            [
             0.8888888888888888,
             "#fdca26"
            ],
            [
             1,
             "#f0f921"
            ]
           ]
          },
          "colorway": [
           "#636efa",
           "#EF553B",
           "#00cc96",
           "#ab63fa",
           "#FFA15A",
           "#19d3f3",
           "#FF6692",
           "#B6E880",
           "#FF97FF",
           "#FECB52"
          ],
          "font": {
           "color": "#2a3f5f"
          },
          "geo": {
           "bgcolor": "white",
           "lakecolor": "white",
           "landcolor": "#E5ECF6",
           "showlakes": true,
           "showland": true,
           "subunitcolor": "white"
          },
          "hoverlabel": {
           "align": "left"
          },
          "hovermode": "closest",
          "mapbox": {
           "style": "light"
          },
          "paper_bgcolor": "white",
          "plot_bgcolor": "#E5ECF6",
          "polar": {
           "angularaxis": {
            "gridcolor": "white",
            "linecolor": "white",
            "ticks": ""
           },
           "bgcolor": "#E5ECF6",
           "radialaxis": {
            "gridcolor": "white",
            "linecolor": "white",
            "ticks": ""
           }
          },
          "scene": {
           "xaxis": {
            "backgroundcolor": "#E5ECF6",
            "gridcolor": "white",
            "gridwidth": 2,
            "linecolor": "white",
            "showbackground": true,
            "ticks": "",
            "zerolinecolor": "white"
           },
           "yaxis": {
            "backgroundcolor": "#E5ECF6",
            "gridcolor": "white",
            "gridwidth": 2,
            "linecolor": "white",
            "showbackground": true,
            "ticks": "",
            "zerolinecolor": "white"
           },
           "zaxis": {
            "backgroundcolor": "#E5ECF6",
            "gridcolor": "white",
            "gridwidth": 2,
            "linecolor": "white",
            "showbackground": true,
            "ticks": "",
            "zerolinecolor": "white"
           }
          },
          "shapedefaults": {
           "line": {
            "color": "#2a3f5f"
           }
          },
          "ternary": {
           "aaxis": {
            "gridcolor": "white",
            "linecolor": "white",
            "ticks": ""
           },
           "baxis": {
            "gridcolor": "white",
            "linecolor": "white",
            "ticks": ""
           },
           "bgcolor": "#E5ECF6",
           "caxis": {
            "gridcolor": "white",
            "linecolor": "white",
            "ticks": ""
           }
          },
          "title": {
           "x": 0.05
          },
          "xaxis": {
           "automargin": true,
           "gridcolor": "white",
           "linecolor": "white",
           "ticks": "",
           "title": {
            "standoff": 15
           },
           "zerolinecolor": "white",
           "zerolinewidth": 2
          },
          "yaxis": {
           "automargin": true,
           "gridcolor": "white",
           "linecolor": "white",
           "ticks": "",
           "title": {
            "standoff": 15
           },
           "zerolinecolor": "white",
           "zerolinewidth": 2
          }
         }
        },
        "title": {
         "text": "Toxic vs non toxic comments"
        }
       }
      }
     },
     "metadata": {},
     "output_type": "display_data"
    }
   ],
   "source": [
    "#plot a camembert for toxic and non toxic comments\n",
    "toxic = df_train[df_train['toxicity'] == 1].shape[0]\n",
    "non_toxic = df_train[df_train['toxicity'] == 0].shape[0]\n",
    "\n",
    "px.pie(names=['toxic', 'non toxic'], values=[toxic, non_toxic], title='Toxic vs non toxic comments')"
   ]
  },
  {
   "cell_type": "code",
   "execution_count": 21,
   "metadata": {},
   "outputs": [
    {
     "data": {
      "text/plain": [
       "<Axes: >"
      ]
     },
     "execution_count": 21,
     "metadata": {},
     "output_type": "execute_result"
    },
    {
     "data": {
      "image/png": "[encoded data removed]",
      "text/plain": [
       "<Figure size 1000x1000 with 2 Axes>"
      ]
     },
     "metadata": {},
     "output_type": "display_data"
    }
   ],
   "source": [
    "\n",
    "corr = df_train[CATEGORIES].corr()\n",
    "\n",
    "# aggrandi le plot\n",
    "\n",
    "plt.figure(figsize=(10, 10))\n",
    "sns.heatmap(corr, annot=True, cmap='coolwarm')"
   ]
  },
  {
   "cell_type": "markdown",
   "metadata": {},
   "source": [
    "On pour voir la correlation entre les variables, on peut utiliser la matrice de correlation. Par exemple hate et harrasment sont correlées."
   ]
  },
  {
   "cell_type": "markdown",
   "metadata": {},
   "source": []
  }
 ],
 "metadata": {
  "kernelspec": {
   "display_name": "SCIA",
   "language": "python",
   "name": "python3"
  },
  "language_info": {
   "codemirror_mode": {
    "name": "ipython",
    "version": 3
   },
   "file_extension": ".py",
   "mimetype": "text/x-python",
   "name": "python",
   "nbconvert_exporter": "python",
   "pygments_lexer": "ipython3",
   "version": "3.12.2"
  }
 },
 "nbformat": 4,
 "nbformat_minor": 2
}
